{
 "cells": [
  {
   "cell_type": "code",
   "execution_count": 1,
   "id": "d67049f6-cec5-4c28-b739-132a8c2b687f",
   "metadata": {},
   "outputs": [],
   "source": [
    "import numpy as np"
   ]
  },
  {
   "cell_type": "code",
   "execution_count": 2,
   "id": "c5370a03-851e-46bb-9df6-3981e3340049",
   "metadata": {},
   "outputs": [],
   "source": [
    "class Grid:\n",
    "    def __init__(self):\n",
    "        self.data = []\n",
    "        self.values = set()\n",
    "        self.plays = []\n",
    "        self.win = False\n",
    "        self.grid = np.array([])\n",
    "    \n",
    "    def add_row(self, row):\n",
    "        self.data.append(row)\n",
    "        self.values |= set(row)\n",
    "        self.grid = np.array(self.data, dtype=int)\n",
    "    \n",
    "    def play(self, number):\n",
    "        if self.win:\n",
    "            return\n",
    "        if number not in self.values:\n",
    "            return\n",
    "        self.plays.append(number)\n",
    "        check = np.isin(self.grid, self.plays)\n",
    "        for i in range(len(self.data)):\n",
    "            if check[i,:].all() or check[:,i].all():\n",
    "                self.win = True\n",
    "                return sum(self.values - set(self.plays)) * number"
   ]
  },
  {
   "cell_type": "code",
   "execution_count": 3,
   "id": "059063b5-63a9-4ff0-a27c-165582ecb02e",
   "metadata": {},
   "outputs": [],
   "source": [
    "grids, numbers = [], []\n",
    "with open('Day04.txt') as file:\n",
    "    numbers = list(map(int, file.readline().split(',')))\n",
    "    data = file.read().splitlines()\n",
    "    for row in data:\n",
    "        if not row:\n",
    "            grid = Grid()\n",
    "            grids.append(grid)\n",
    "            continue\n",
    "        row = list(map(int, row.split()))\n",
    "        grid.add_row(row)"
   ]
  },
  {
   "cell_type": "code",
   "execution_count": 4,
   "id": "36fa4155-ee1a-4000-ac86-358ead253c58",
   "metadata": {},
   "outputs": [
    {
     "name": "stdout",
     "output_type": "stream",
     "text": [
      "CPU times: user 16.9 ms, sys: 0 ns, total: 16.9 ms\n",
      "Wall time: 16.4 ms\n"
     ]
    },
    {
     "data": {
      "text/plain": [
       "87456"
      ]
     },
     "execution_count": 4,
     "metadata": {},
     "output_type": "execute_result"
    }
   ],
   "source": [
    "%%time\n",
    "def play_fast():\n",
    "    for number in numbers:\n",
    "        for grid in grids:\n",
    "            if result := grid.play(number):\n",
    "                return result\n",
    "play_fast()"
   ]
  },
  {
   "cell_type": "code",
   "execution_count": 5,
   "id": "2dd928c5-ae6e-4db1-95c7-1bb550542beb",
   "metadata": {},
   "outputs": [
    {
     "name": "stdout",
     "output_type": "stream",
     "text": [
      "CPU times: user 83 ms, sys: 404 µs, total: 83.4 ms\n",
      "Wall time: 82 ms\n"
     ]
    },
    {
     "data": {
      "text/plain": [
       "15561"
      ]
     },
     "execution_count": 5,
     "metadata": {},
     "output_type": "execute_result"
    }
   ],
   "source": [
    "%%time\n",
    "def play_last():\n",
    "    last_result = 0\n",
    "    for number in numbers:\n",
    "        for grid in grids:\n",
    "            if grid.win:\n",
    "                continue\n",
    "            if result := grid.play(number):\n",
    "                last_result = result\n",
    "    return last_result\n",
    "play_last()"
   ]
  }
 ],
 "metadata": {
  "kernelspec": {
   "display_name": "Python 3 (ipykernel)",
   "language": "python",
   "name": "python3"
  },
  "language_info": {
   "codemirror_mode": {
    "name": "ipython",
    "version": 3
   },
   "file_extension": ".py",
   "mimetype": "text/x-python",
   "name": "python",
   "nbconvert_exporter": "python",
   "pygments_lexer": "ipython3",
   "version": "3.10.0"
  }
 },
 "nbformat": 4,
 "nbformat_minor": 5
}
