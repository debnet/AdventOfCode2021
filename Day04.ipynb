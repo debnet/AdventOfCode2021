{
 "cells": [
  {
   "cell_type": "code",
   "execution_count": 1,
   "id": "d67049f6-cec5-4c28-b739-132a8c2b687f",
   "metadata": {},
   "outputs": [],
   "source": [
    "import numpy as np\n",
    "from operator import add\n",
    "from functools import reduce"
   ]
  },
  {
   "cell_type": "code",
   "execution_count": 2,
   "id": "c5370a03-851e-46bb-9df6-3981e3340049",
   "metadata": {},
   "outputs": [],
   "source": [
    "class Grid:\n",
    "    def __init__(self):\n",
    "        self.data = []\n",
    "        self.win = False\n",
    "        self.grid = np.array([])\n",
    "    \n",
    "    def add_row(self, row):\n",
    "        self.data.append(row)\n",
    "        self.grid = np.array(self.data, dtype=int)\n",
    "    \n",
    "    def play(self, number, plays):\n",
    "        if self.win:\n",
    "            return\n",
    "        check = np.isin(self.grid, plays)\n",
    "        for i in range(len(self.data)):\n",
    "            if check[i,:].all() or check[:,i].all():\n",
    "                self.win = True\n",
    "                return self.grid[~check].sum() * number"
   ]
  },
  {
   "cell_type": "code",
   "execution_count": 3,
   "id": "059063b5-63a9-4ff0-a27c-165582ecb02e",
   "metadata": {},
   "outputs": [],
   "source": [
    "grids, numbers = [], []\n",
    "with open('Day04.txt') as file:\n",
    "    numbers = list(map(int, file.readline().split(',')))\n",
    "    data = file.read().splitlines()\n",
    "    for row in data:\n",
    "        if not row:\n",
    "            grid = Grid()\n",
    "            grids.append(grid)\n",
    "            continue\n",
    "        row = list(map(int, row.split()))\n",
    "        grid.add_row(row)"
   ]
  },
  {
   "cell_type": "code",
   "execution_count": 4,
   "id": "36fa4155-ee1a-4000-ac86-358ead253c58",
   "metadata": {},
   "outputs": [
    {
     "data": {
      "text/plain": [
       "87456"
      ]
     },
     "execution_count": 4,
     "metadata": {},
     "output_type": "execute_result"
    }
   ],
   "source": [
    "def play_fast():\n",
    "    plays = []\n",
    "    for number in numbers:\n",
    "        plays.append(number)\n",
    "        for grid in grids:\n",
    "            if result := grid.play(number, plays):\n",
    "                return result\n",
    "play_fast()"
   ]
  },
  {
   "cell_type": "code",
   "execution_count": 5,
   "id": "2dd928c5-ae6e-4db1-95c7-1bb550542beb",
   "metadata": {},
   "outputs": [
    {
     "data": {
      "text/plain": [
       "15561"
      ]
     },
     "execution_count": 5,
     "metadata": {},
     "output_type": "execute_result"
    }
   ],
   "source": [
    "def play_last():\n",
    "    plays = []\n",
    "    last_result = 0\n",
    "    for number in numbers:\n",
    "        plays.append(number)\n",
    "        for grid in grids:\n",
    "            if grid.win:\n",
    "                continue\n",
    "            if result := grid.play(number, plays):\n",
    "                last_result = result\n",
    "    return last_result\n",
    "play_last()"
   ]
  }
 ],
 "metadata": {
  "kernelspec": {
   "display_name": "Python 3 (ipykernel)",
   "language": "python",
   "name": "python3"
  },
  "language_info": {
   "codemirror_mode": {
    "name": "ipython",
    "version": 3
   },
   "file_extension": ".py",
   "mimetype": "text/x-python",
   "name": "python",
   "nbconvert_exporter": "python",
   "pygments_lexer": "ipython3",
   "version": "3.10.0"
  }
 },
 "nbformat": 4,
 "nbformat_minor": 5
}
