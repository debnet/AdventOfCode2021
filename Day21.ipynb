{
 "cells": [
  {
   "cell_type": "code",
   "execution_count": 1,
   "id": "67672b0d-97f9-44d3-9d5c-fe77161a3aee",
   "metadata": {},
   "outputs": [],
   "source": [
    "with open('Day21.txt') as file:\n",
    "    p1_position = int(file.readline().split(': ')[1])\n",
    "    p2_position = int(file.readline().split(': ')[1])"
   ]
  },
  {
   "cell_type": "code",
   "execution_count": 2,
   "id": "acb5dd94-70be-49aa-b24d-92fec836ae57",
   "metadata": {},
   "outputs": [],
   "source": [
    "from itertools import cycle\n",
    "\n",
    "def play(a_position, b_position, a_score=0, b_score=0):\n",
    "    dice = cycle(range(1, 101))\n",
    "    for turn, rolls in enumerate(zip(dice, dice, dice)):\n",
    "        a_position = ((a_position + sum(rolls)) - 1) % 10 + 1\n",
    "        a_score += a_position\n",
    "        a_position, b_position, a_score, b_score = b_position, a_position, b_score, a_score\n",
    "        if a_score >= 1000 or b_score >= 1000: \n",
    "            return min(a_score, b_score) * (turn + 1) * 3"
   ]
  },
  {
   "cell_type": "code",
   "execution_count": 3,
   "id": "dcd007f4-f318-47c6-91bd-f869aef14046",
   "metadata": {},
   "outputs": [
    {
     "name": "stdout",
     "output_type": "stream",
     "text": [
      "CPU times: user 123 µs, sys: 0 ns, total: 123 µs\n",
      "Wall time: 126 µs\n"
     ]
    },
    {
     "data": {
      "text/plain": [
       "752247"
      ]
     },
     "execution_count": 3,
     "metadata": {},
     "output_type": "execute_result"
    }
   ],
   "source": [
    "%%time\n",
    "play(p1_position, p2_position)"
   ]
  },
  {
   "cell_type": "code",
   "execution_count": 4,
   "id": "7b3d89d3-b529-4c98-8434-4f029744e685",
   "metadata": {},
   "outputs": [],
   "source": [
    "from functools import lru_cache\n",
    "from itertools import product\n",
    "\n",
    "@lru_cache(maxsize=None)\n",
    "def play_quantum(a_position, b_position, a_score=0, b_score=0):\n",
    "    a_universes, b_universes = 0, 0\n",
    "    for rolls in product(range(1, 4), repeat=3):\n",
    "        position = ((a_position + sum(rolls)) - 1) % 10 + 1\n",
    "        score = a_score + position\n",
    "        if score >= 21:\n",
    "            b_win, a_win = (0, 1)\n",
    "        else:\n",
    "            b_win, a_win = play_quantum(b_position, position, b_score, score)\n",
    "        a_universes += a_win\n",
    "        b_universes += b_win\n",
    "    return a_universes, b_universes"
   ]
  },
  {
   "cell_type": "code",
   "execution_count": 5,
   "id": "cf5c2b72-16a4-4cf7-9f3d-8119a02ad472",
   "metadata": {},
   "outputs": [
    {
     "name": "stdout",
     "output_type": "stream",
     "text": [
      "CPU times: user 184 ms, sys: 6.93 ms, total: 191 ms\n",
      "Wall time: 186 ms\n"
     ]
    },
    {
     "data": {
      "text/plain": [
       "(221109915584112, 117096403483545)"
      ]
     },
     "execution_count": 5,
     "metadata": {},
     "output_type": "execute_result"
    }
   ],
   "source": [
    "%%time\n",
    "play_quantum(p1_position, p2_position)"
   ]
  },
  {
   "cell_type": "code",
   "execution_count": 6,
   "id": "5fba5ce9-583c-402f-8e1a-cc045b708d2a",
   "metadata": {},
   "outputs": [
    {
     "data": {
      "text/plain": [
       "CacheInfo(hits=271850, misses=17330, maxsize=None, currsize=17330)"
      ]
     },
     "execution_count": 6,
     "metadata": {},
     "output_type": "execute_result"
    }
   ],
   "source": [
    "play_quantum.cache_info()"
   ]
  }
 ],
 "metadata": {
  "kernelspec": {
   "display_name": "Python 3 (ipykernel)",
   "language": "python",
   "name": "python3"
  },
  "language_info": {
   "codemirror_mode": {
    "name": "ipython",
    "version": 3
   },
   "file_extension": ".py",
   "mimetype": "text/x-python",
   "name": "python",
   "nbconvert_exporter": "python",
   "pygments_lexer": "ipython3",
   "version": "3.10.0"
  }
 },
 "nbformat": 4,
 "nbformat_minor": 5
}
