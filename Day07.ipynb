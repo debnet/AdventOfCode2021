{
 "cells": [
  {
   "cell_type": "code",
   "execution_count": 1,
   "id": "bcc137b5-a8e6-4039-8afc-54f2696de286",
   "metadata": {},
   "outputs": [],
   "source": [
    "with open(\"Day07.txt\") as file:\n",
    "    data = list(map(int, file.read().split(\",\")))"
   ]
  },
  {
   "cell_type": "code",
   "execution_count": 2,
   "id": "c04a3db5-083c-44c0-bade-8e0e2a16941b",
   "metadata": {},
   "outputs": [
    {
     "data": {
      "text/plain": [
       "357353"
      ]
     },
     "execution_count": 2,
     "metadata": {},
     "output_type": "execute_result"
    }
   ],
   "source": [
    "import statistics\n",
    "median = int(statistics.median(data))\n",
    "sum(abs(value - median) for value in data)"
   ]
  },
  {
   "cell_type": "code",
   "execution_count": 3,
   "id": "3c8759d0-e9f5-4a6b-9ca7-adb791219288",
   "metadata": {},
   "outputs": [
    {
     "data": {
      "text/plain": [
       "104822130"
      ]
     },
     "execution_count": 3,
     "metadata": {},
     "output_type": "execute_result"
    }
   ],
   "source": [
    "def estimate(goal):\n",
    "    total = 0\n",
    "    for value in data:\n",
    "        delta = abs(value - goal)\n",
    "        total += (delta * (delta + 1)) // 2\n",
    "    return total\n",
    "\n",
    "mean = int(statistics.mean(data))\n",
    "min(estimate(mean), estimate(mean + 1))"
   ]
  }
 ],
 "metadata": {
  "kernelspec": {
   "display_name": "Python 3 (ipykernel)",
   "language": "python",
   "name": "python3"
  },
  "language_info": {
   "codemirror_mode": {
    "name": "ipython",
    "version": 3
   },
   "file_extension": ".py",
   "mimetype": "text/x-python",
   "name": "python",
   "nbconvert_exporter": "python",
   "pygments_lexer": "ipython3",
   "version": "3.10.0"
  }
 },
 "nbformat": 4,
 "nbformat_minor": 5
}
