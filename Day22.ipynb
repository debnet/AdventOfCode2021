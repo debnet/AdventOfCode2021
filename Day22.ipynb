{
 "cells": [
  {
   "cell_type": "code",
   "execution_count": 1,
   "id": "313c0485-cf13-4fe3-bf94-96f3b6e58dec",
   "metadata": {},
   "outputs": [],
   "source": [
    "import re\n",
    "regex = re.compile(r'-?\\d+')\n",
    "\n",
    "all_cubes = []\n",
    "with open('Day22.txt') as file:\n",
    "    for line in file:\n",
    "        state, coords = line.split()\n",
    "        coords = tuple(map(int, regex.findall(coords)))\n",
    "        all_cubes.append((coords, state == 'on'))"
   ]
  },
  {
   "cell_type": "code",
   "execution_count": 2,
   "id": "ed221569-fac9-4231-8791-cce67b352048",
   "metadata": {},
   "outputs": [],
   "source": [
    "def overlap(cube1, cube2):\n",
    "    x11, x12, y11, y12, z11, z12 = cube1\n",
    "    x21, x22, y21, y22, z21, z22 = cube2\n",
    "    x1 = max(x11, x21); y1 = max(y11, y21); z1 = max(z11, z21)\n",
    "    x2 = min(x12, x22); y2 = min(y12, y22); z2 = min(z12, z22)\n",
    "    if x1 <= x2 and y1 <= y2 and z1 <= z2:\n",
    "        return x1, x2, y1, y2, z1, z2\n",
    "\n",
    "def volume(cube):\n",
    "    x1, x2, y1, y2, z1, z2 = cube\n",
    "    return (x2 - x1 + 1) * (y2 - y1 + 1) * (z2 - z1 + 1)"
   ]
  },
  {
   "cell_type": "code",
   "execution_count": 3,
   "id": "ec8790bf-fb56-46d2-a7bd-4298d28e1b7d",
   "metadata": {},
   "outputs": [],
   "source": [
    "from collections import defaultdict\n",
    "\n",
    "def compute(cubes):\n",
    "    results = defaultdict(int)\n",
    "    for cube1, state in cubes:\n",
    "        for cube2 in results.copy():\n",
    "            if edge := overlap(cube1, cube2):\n",
    "                results[edge] -= results[cube2]\n",
    "        if state:\n",
    "            results[cube1] += 1\n",
    "    return sum(volume(cube) * result for cube, result in results.items())"
   ]
  },
  {
   "cell_type": "code",
   "execution_count": 4,
   "id": "c24e270b-d0c2-4c58-978a-1df926e3ca26",
   "metadata": {},
   "outputs": [
    {
     "name": "stdout",
     "output_type": "stream",
     "text": [
      "CPU times: user 11.9 ms, sys: 0 ns, total: 11.9 ms\n",
      "Wall time: 11.5 ms\n"
     ]
    },
    {
     "data": {
      "text/plain": [
       "568000"
      ]
     },
     "execution_count": 4,
     "metadata": {},
     "output_type": "execute_result"
    }
   ],
   "source": [
    "%%time\n",
    "compute(all_cubes[:20])"
   ]
  },
  {
   "cell_type": "code",
   "execution_count": 5,
   "id": "dfe0e50a-ffc1-47b4-ba2d-9469a8458f81",
   "metadata": {},
   "outputs": [
    {
     "name": "stdout",
     "output_type": "stream",
     "text": [
      "CPU times: user 1.06 s, sys: 424 µs, total: 1.06 s\n",
      "Wall time: 1.05 s\n"
     ]
    },
    {
     "data": {
      "text/plain": [
       "1177411289280259"
      ]
     },
     "execution_count": 5,
     "metadata": {},
     "output_type": "execute_result"
    }
   ],
   "source": [
    "%%time\n",
    "compute(all_cubes)"
   ]
  }
 ],
 "metadata": {
  "kernelspec": {
   "display_name": "Python 3 (ipykernel)",
   "language": "python",
   "name": "python3"
  },
  "language_info": {
   "codemirror_mode": {
    "name": "ipython",
    "version": 3
   },
   "file_extension": ".py",
   "mimetype": "text/x-python",
   "name": "python",
   "nbconvert_exporter": "python",
   "pygments_lexer": "ipython3",
   "version": "3.10.0"
  }
 },
 "nbformat": 4,
 "nbformat_minor": 5
}
