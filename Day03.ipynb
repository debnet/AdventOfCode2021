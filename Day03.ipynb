{
 "cells": [
  {
   "cell_type": "code",
   "execution_count": 1,
   "id": "cf9af86a-86b2-4ac2-bf05-c985149f65a3",
   "metadata": {},
   "outputs": [],
   "source": [
    "with open(\"Day03.txt\") as file:\n",
    "    data = file.read().split()"
   ]
  },
  {
   "cell_type": "code",
   "execution_count": 2,
   "id": "bbb04a50-8dfa-4038-800c-c79f13a46c96",
   "metadata": {},
   "outputs": [
    {
     "data": {
      "text/plain": [
       "2003336"
      ]
     },
     "execution_count": 2,
     "metadata": {},
     "output_type": "execute_result"
    }
   ],
   "source": [
    "from collections import Counter\n",
    "counts = [Counter() for _ in data[0]]\n",
    "for bits in data:\n",
    "    for index, bit in enumerate(bits):\n",
    "        counts[index].update([bit])\n",
    "grate, erate = [], []\n",
    "for count in counts:\n",
    "    (g, _), (e, _) = count.most_common()\n",
    "    grate.append(g)\n",
    "    erate.append(e)\n",
    "int(\"\".join(grate), 2) * int(\"\".join(erate), 2)"
   ]
  },
  {
   "cell_type": "code",
   "execution_count": 3,
   "id": "192bd1e3-f2cf-4713-809c-77ec0ebd0e24",
   "metadata": {},
   "outputs": [
    {
     "data": {
      "text/plain": [
       "1877139"
      ]
     },
     "execution_count": 3,
     "metadata": {},
     "output_type": "execute_result"
    }
   ],
   "source": [
    "values = {'oxygen': data[:], 'carbon': data[:]}\n",
    "for index in range(len(counts)):\n",
    "    for shift, key in enumerate(values.keys()):\n",
    "        items = values[key]\n",
    "        if len(items) == 1:\n",
    "            continue\n",
    "        counter = Counter([item[index] for item in items]).most_common()\n",
    "        value, count = counter[shift]\n",
    "        value = value if count != len(items) / 2 else (\"1\", \"0\")[shift]\n",
    "        values[key] = [item for item in items if item[index] == value]\n",
    "int(values['oxygen'][0], 2) * int(values['carbon'][0], 2)"
   ]
  }
 ],
 "metadata": {
  "kernelspec": {
   "display_name": "Python 3 (ipykernel)",
   "language": "python",
   "name": "python3"
  },
  "language_info": {
   "codemirror_mode": {
    "name": "ipython",
    "version": 3
   },
   "file_extension": ".py",
   "mimetype": "text/x-python",
   "name": "python",
   "nbconvert_exporter": "python",
   "pygments_lexer": "ipython3",
   "version": "3.10.0"
  }
 },
 "nbformat": 4,
 "nbformat_minor": 5
}
