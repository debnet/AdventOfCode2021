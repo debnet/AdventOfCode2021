{
 "cells": [
  {
   "cell_type": "code",
   "execution_count": 1,
   "id": "5f28c187-8956-4645-be75-02eec5c538d5",
   "metadata": {},
   "outputs": [],
   "source": [
    "with open('Day01.txt') as file:\n",
    "    data = list(map(int, file.read().split()))"
   ]
  },
  {
   "cell_type": "code",
   "execution_count": 2,
   "id": "c5ebcd1e-a90f-41a8-93bf-6ac4b4fb9582",
   "metadata": {},
   "outputs": [
    {
     "data": {
      "text/plain": [
       "1692"
      ]
     },
     "execution_count": 2,
     "metadata": {},
     "output_type": "execute_result"
    }
   ],
   "source": [
    "from itertools import pairwise\n",
    "sum(b > a for a, b in pairwise(data))"
   ]
  },
  {
   "cell_type": "code",
   "execution_count": 3,
   "id": "31a19f31-f137-400d-8202-b52cc08ac0b2",
   "metadata": {},
   "outputs": [
    {
     "data": {
      "text/plain": [
       "1724"
      ]
     },
     "execution_count": 3,
     "metadata": {},
     "output_type": "execute_result"
    }
   ],
   "source": [
    "subdata = (a + b + c for a, b, c, in zip(data, data[1:], data[2:]))\n",
    "sum(b > a for a, b in pairwise(subdata))"
   ]
  }
 ],
 "metadata": {
  "kernelspec": {
   "display_name": "Python 3 (ipykernel)",
   "language": "python",
   "name": "python3"
  },
  "language_info": {
   "codemirror_mode": {
    "name": "ipython",
    "version": 3
   },
   "file_extension": ".py",
   "mimetype": "text/x-python",
   "name": "python",
   "nbconvert_exporter": "python",
   "pygments_lexer": "ipython3",
   "version": "3.10.0"
  }
 },
 "nbformat": 4,
 "nbformat_minor": 5
}
