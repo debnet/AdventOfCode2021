{
 "cells": [
  {
   "cell_type": "code",
   "execution_count": 1,
   "id": "f4d34d16-f7f3-4224-883e-872351a36dd0",
   "metadata": {},
   "outputs": [],
   "source": [
    "data = []\n",
    "with open(\"Day08.txt\") as file:\n",
    "    for line in file:\n",
    "        a, b = line.strip().split(' | ')\n",
    "        a = tuple(frozenset(item) for item in a.split())\n",
    "        b = tuple(frozenset(item) for item in b.split())\n",
    "        data.append((a, b))"
   ]
  },
  {
   "cell_type": "code",
   "execution_count": 2,
   "id": "48844861-1151-415b-a9fc-e2e6a26427bb",
   "metadata": {},
   "outputs": [
    {
     "name": "stdout",
     "output_type": "stream",
     "text": [
      "CPU times: user 355 µs, sys: 0 ns, total: 355 µs\n",
      "Wall time: 365 µs\n"
     ]
    },
    {
     "data": {
      "text/plain": [
       "274"
      ]
     },
     "execution_count": 2,
     "metadata": {},
     "output_type": "execute_result"
    }
   ],
   "source": [
    "%%time\n",
    "from collections import Counter\n",
    "\n",
    "counter = Counter()\n",
    "for left, right in data:\n",
    "    counter.update(len(item) for item in right)\n",
    "\n",
    "counter[2] + counter[3] + counter[4] + counter[7]"
   ]
  },
  {
   "cell_type": "code",
   "execution_count": 3,
   "id": "f2cf2d0d-5a18-466f-8bb1-aef74b32c7ad",
   "metadata": {},
   "outputs": [],
   "source": [
    "def identify(patterns):\n",
    "    # Segments\n",
    "    # ┌ a ┐\n",
    "    # b   c\n",
    "    # ├ d ┤\n",
    "    # e   f\n",
    "    # └ g ┘\n",
    "    values = {}\n",
    "    # Unique patterns (1, 4, 7, 8)\n",
    "    for value, count in ((1, 2), (4, 4), (7, 3), (8, 7)):\n",
    "        values[value] = next(p for p in patterns if len(p) == count)\n",
    "    # 5-segments (2, 3, 5)\n",
    "    # Bottom-left corner segments\n",
    "    segments_5 = tuple(p for p in patterns if len(p) == 5)\n",
    "    segment_a = values[7] - values[1]\n",
    "    segments_e_g = values[8] - values[4] - segment_a\n",
    "    segment_g = segments_e_g - frozenset.union(*(segments_e_g - s for s in segments_5))\n",
    "    segment_e = segments_e_g - segment_g\n",
    "    # Deducted patterns from bottom-left corner (2, 3, 5)\n",
    "    values[2] = next(p for p in segments_5 if p & segment_e)\n",
    "    values[3] = next(p for p in segments_5 if p & values[1] == values[1])\n",
    "    values[5] = next(p for p in segments_5 if p not in values.values())\n",
    "    # 6-segments (0, 6, 9)\n",
    "    segments_6 = tuple(p for p in patterns if len(p) == 6)\n",
    "    values[9] = next(p for p in segments_6 if not p & segment_e)\n",
    "    values[0] = next(p for p in segments_6 if p != values[9] and p & values[1] == values[1])\n",
    "    values[6] = next(p for p in segments_6 if p not in values.values())\n",
    "    # Return result\n",
    "    return values"
   ]
  },
  {
   "cell_type": "code",
   "execution_count": 4,
   "id": "9cb519b3-e54a-4d68-bc0e-3fb5b5bba9e0",
   "metadata": {},
   "outputs": [],
   "source": [
    "def translate(sequence, values):\n",
    "    translator = {value: key for key, value in values.items()}\n",
    "    return sum(translator[value] * (10 ** exp) for exp, value in enumerate(sequence[::-1]))"
   ]
  },
  {
   "cell_type": "code",
   "execution_count": 5,
   "id": "f033c029-b4af-4a68-8194-f8ec4ab073b5",
   "metadata": {},
   "outputs": [
    {
     "name": "stdout",
     "output_type": "stream",
     "text": [
      "CPU times: user 3.44 ms, sys: 52 µs, total: 3.49 ms\n",
      "Wall time: 3.46 ms\n"
     ]
    },
    {
     "data": {
      "text/plain": [
       "1012089"
      ]
     },
     "execution_count": 5,
     "metadata": {},
     "output_type": "execute_result"
    }
   ],
   "source": [
    "%%time\n",
    "sum(translate(right, identify(left)) for left, right in data)"
   ]
  }
 ],
 "metadata": {
  "kernelspec": {
   "display_name": "Python 3 (ipykernel)",
   "language": "python",
   "name": "python3"
  },
  "language_info": {
   "codemirror_mode": {
    "name": "ipython",
    "version": 3
   },
   "file_extension": ".py",
   "mimetype": "text/x-python",
   "name": "python",
   "nbconvert_exporter": "python",
   "pygments_lexer": "ipython3",
   "version": "3.10.0"
  }
 },
 "nbformat": 4,
 "nbformat_minor": 5
}
