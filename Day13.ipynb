{
 "cells": [
  {
   "cell_type": "code",
   "execution_count": 1,
   "id": "26674212-6789-4e57-a48e-142cbe4a3339",
   "metadata": {},
   "outputs": [],
   "source": [
    "data, splits = set(), []\n",
    "with open('Day13.txt') as file:\n",
    "    for line in file:\n",
    "        if '=' in line:\n",
    "            axe, split = line.strip().split('=')\n",
    "            splits.append((axe[-1], int(split)))\n",
    "        elif ',' in line:\n",
    "            x, y = map(int, line.strip().split(','))\n",
    "            data.add((x, y))"
   ]
  },
  {
   "cell_type": "code",
   "execution_count": 2,
   "id": "e78a0fef-8a76-48f1-a61f-58db6a2230bd",
   "metadata": {},
   "outputs": [],
   "source": [
    "def fold(data, axe, split):\n",
    "    result = set()\n",
    "    for (x, y) in data:\n",
    "        if axe == 'x' and x > split:\n",
    "            x = split - (x - split)\n",
    "        elif axe == 'y' and y > split:\n",
    "            y = split - (y - split)\n",
    "        result.add((x, y))\n",
    "    return result"
   ]
  },
  {
   "cell_type": "code",
   "execution_count": 3,
   "id": "678c220f-2f26-43de-a474-209eb653e93b",
   "metadata": {},
   "outputs": [
    {
     "name": "stdout",
     "output_type": "stream",
     "text": [
      "Fold #01 (x=655): Dots=837\n",
      "Fold #02 (y=447): Dots=694\n",
      "Fold #03 (x=327): Dots=559\n",
      "Fold #04 (y=223): Dots=469\n",
      "Fold #05 (x=163): Dots=391\n",
      "Fold #06 (y=111): Dots=325\n",
      "Fold #07 (x=081): Dots=269\n",
      "Fold #08 (y=055): Dots=216\n",
      "Fold #09 (x=040): Dots=176\n",
      "Fold #10 (y=027): Dots=147\n",
      "Fold #11 (y=013): Dots=123\n",
      "Fold #12 (y=006): Dots=99\n",
      "CPU times: user 3.39 ms, sys: 50 µs, total: 3.44 ms\n",
      "Wall time: 2.94 ms\n"
     ]
    }
   ],
   "source": [
    "%%time\n",
    "for i, (axe, split) in enumerate(splits):\n",
    "    data = fold(data, axe, split)\n",
    "    print(f\"Fold #{i + 1:02} ({axe}={split:03}): Dots={len(data)}\")"
   ]
  },
  {
   "cell_type": "code",
   "execution_count": 4,
   "id": "25ec6535-056f-4432-a707-c8f674ef5ca2",
   "metadata": {},
   "outputs": [],
   "source": [
    "def display(data):\n",
    "    xs, ys = set(), set()\n",
    "    for x, y in data:\n",
    "        xs.add(x)\n",
    "        ys.add(y)\n",
    "    for y in range(max(ys) + 1):\n",
    "        for x in range(max(xs) + 1):\n",
    "            print(\"█\" if (x, y) in data else \" \", end='')\n",
    "        print()"
   ]
  },
  {
   "cell_type": "code",
   "execution_count": 5,
   "id": "9a3482e9-7c40-406e-951c-43275349523a",
   "metadata": {},
   "outputs": [
    {
     "name": "stdout",
     "output_type": "stream",
     "text": [
      "████ ███  ████  ██  █  █  ██  █  █ █  █\n",
      "█    █  █    █ █  █ █ █  █  █ █  █ █  █\n",
      "███  █  █   █  █    ██   █    ████ █  █\n",
      "█    ███   █   █ ██ █ █  █    █  █ █  █\n",
      "█    █    █    █  █ █ █  █  █ █  █ █  █\n",
      "████ █    ████  ███ █  █  ██  █  █  ██ \n"
     ]
    }
   ],
   "source": [
    "display(data)"
   ]
  }
 ],
 "metadata": {
  "kernelspec": {
   "display_name": "Python 3 (ipykernel)",
   "language": "python",
   "name": "python3"
  },
  "language_info": {
   "codemirror_mode": {
    "name": "ipython",
    "version": 3
   },
   "file_extension": ".py",
   "mimetype": "text/x-python",
   "name": "python",
   "nbconvert_exporter": "python",
   "pygments_lexer": "ipython3",
   "version": "3.10.0"
  }
 },
 "nbformat": 4,
 "nbformat_minor": 5
}
