{
 "cells": [
  {
   "cell_type": "code",
   "execution_count": 1,
   "id": "3bdb8488-a283-4e1b-bc97-11673a93c70d",
   "metadata": {},
   "outputs": [],
   "source": [
    "data = {}\n",
    "with open(\"Day09.txt\") as file:\n",
    "    for y, line in enumerate(file):\n",
    "        for x, value in enumerate(line.strip()):\n",
    "            data[x, y] = int(value)"
   ]
  },
  {
   "cell_type": "code",
   "execution_count": 2,
   "id": "f3075bf9-f2e4-4b90-bd25-3282b196ee3e",
   "metadata": {},
   "outputs": [
    {
     "name": "stdout",
     "output_type": "stream",
     "text": [
      "CPU times: user 6.08 ms, sys: 3 µs, total: 6.08 ms\n",
      "Wall time: 6 ms\n"
     ]
    },
    {
     "data": {
      "text/plain": [
       "564"
      ]
     },
     "execution_count": 2,
     "metadata": {},
     "output_type": "execute_result"
    }
   ],
   "source": [
    "%%time\n",
    "lowpoints = {}\n",
    "for (x, y), value in data.items():\n",
    "    for sx, sy in ((-1, 0), (1, 0), (0, -1), (0, 1)):\n",
    "        if data.get((x + sx, y + sy), 10) <= value:\n",
    "            break\n",
    "    else:\n",
    "        lowpoints[x, y] = value\n",
    "sum(lowpoints.values()) + len(lowpoints)"
   ]
  },
  {
   "cell_type": "code",
   "execution_count": 3,
   "id": "203c07c3-3a17-47d0-8a70-ef524b299e7e",
   "metadata": {},
   "outputs": [],
   "source": [
    "def explore_basin(coords, basin=None):\n",
    "    basin = basin or set()\n",
    "    if coords in basin:\n",
    "        return\n",
    "    if data.get(coords, 10) >= 9:\n",
    "        return\n",
    "    basin.add(coords)\n",
    "    x, y = coords\n",
    "    for sx, sy in ((-1, 0), (1, 0), (0, -1), (0, 1)):\n",
    "        explore_basin((x + sx, y + sy), basin)\n",
    "    return basin"
   ]
  },
  {
   "cell_type": "code",
   "execution_count": 4,
   "id": "ec94c85c-de6b-4c27-8e9e-5275286583de",
   "metadata": {},
   "outputs": [
    {
     "name": "stdout",
     "output_type": "stream",
     "text": [
      "CPU times: user 9.56 ms, sys: 58 µs, total: 9.62 ms\n",
      "Wall time: 9.5 ms\n"
     ]
    },
    {
     "data": {
      "text/plain": [
       "1038240"
      ]
     },
     "execution_count": 4,
     "metadata": {},
     "output_type": "execute_result"
    }
   ],
   "source": [
    "%%time\n",
    "from functools import reduce\n",
    "from operator import mul\n",
    "\n",
    "basins = {coords: explore_basin(coords) for coords in lowpoints}\n",
    "greatest = sorted(basins.values(), key=len, reverse=True)[:3]\n",
    "reduce(mul, (len(basin) for basin in greatest))"
   ]
  }
 ],
 "metadata": {
  "kernelspec": {
   "display_name": "Python 3 (ipykernel)",
   "language": "python",
   "name": "python3"
  },
  "language_info": {
   "codemirror_mode": {
    "name": "ipython",
    "version": 3
   },
   "file_extension": ".py",
   "mimetype": "text/x-python",
   "name": "python",
   "nbconvert_exporter": "python",
   "pygments_lexer": "ipython3",
   "version": "3.10.0"
  }
 },
 "nbformat": 4,
 "nbformat_minor": 5
}
