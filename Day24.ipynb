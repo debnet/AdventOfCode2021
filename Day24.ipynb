{
 "cells": [
  {
   "cell_type": "code",
   "execution_count": 1,
   "id": "8a952323-bc19-4bd4-ba27-3400e8311bdf",
   "metadata": {},
   "outputs": [],
   "source": [
    "blocks = []\n",
    "with open('Day24.txt') as file:\n",
    "    parseint = lambda value: int(value) if value.isnumeric() or value.startswith('-') else value\n",
    "    for chunk in file.read().split('inp w\\n')[1:]:\n",
    "        block = []\n",
    "        for line in chunk.splitlines():\n",
    "            block.append(tuple(map(parseint, line.split())))\n",
    "        blocks.append(block)"
   ]
  },
  {
   "cell_type": "code",
   "execution_count": 2,
   "id": "eae9af42-4f8c-4cee-af79-b1284f4fb189",
   "metadata": {},
   "outputs": [],
   "source": [
    "stack, value_min, value_max = [], [0] * 14, [0] * 14\n",
    "for i, block in enumerate(blocks):\n",
    "    *_, v = block[3]  # div z v\n",
    "    if v == 1:\n",
    "        *_, v = block[14]  # add y v\n",
    "        stack.append((i, v))\n",
    "    elif v == 26:\n",
    "        j, x = stack.pop()\n",
    "        *_, v = block[4]   # add x v\n",
    "        diff = x + v\n",
    "        if diff < 0:\n",
    "            i, j, diff = j, i, -diff\n",
    "        value_min[i] = 1 + diff\n",
    "        value_min[j] = 1\n",
    "        value_max[i] = 9\n",
    "        value_max[j] = 9 - diff"
   ]
  },
  {
   "cell_type": "code",
   "execution_count": 3,
   "id": "4176a169-fbd1-475e-999b-d0347d91aa6f",
   "metadata": {},
   "outputs": [
    {
     "data": {
      "text/plain": [
       "'69914999975369'"
      ]
     },
     "execution_count": 3,
     "metadata": {},
     "output_type": "execute_result"
    }
   ],
   "source": [
    "''.join(map(str, value_max))"
   ]
  },
  {
   "cell_type": "code",
   "execution_count": 4,
   "id": "9f2585a9-b47e-41ec-9174-188282b0362c",
   "metadata": {},
   "outputs": [
    {
     "data": {
      "text/plain": [
       "'14911675311114'"
      ]
     },
     "execution_count": 4,
     "metadata": {},
     "output_type": "execute_result"
    }
   ],
   "source": [
    "''.join(map(str, value_min))"
   ]
  }
 ],
 "metadata": {
  "kernelspec": {
   "display_name": "Python 3 (ipykernel)",
   "language": "python",
   "name": "python3"
  },
  "language_info": {
   "codemirror_mode": {
    "name": "ipython",
    "version": 3
   },
   "file_extension": ".py",
   "mimetype": "text/x-python",
   "name": "python",
   "nbconvert_exporter": "python",
   "pygments_lexer": "ipython3",
   "version": "3.10.1"
  }
 },
 "nbformat": 4,
 "nbformat_minor": 5
}
