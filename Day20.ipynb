{
 "cells": [
  {
   "cell_type": "code",
   "execution_count": 1,
   "id": "237a6fcc-92d8-4e14-bc2d-32a08ffbd41c",
   "metadata": {},
   "outputs": [],
   "source": [
    "data, pixels, sub = {}, {}, {'#': '1', '.': '0'}\n",
    "with open('Day20.txt') as file:\n",
    "    pixels = {bin(i)[2:].rjust(9, '0'): sub[v] for i, v in enumerate(file.readline().strip())}\n",
    "    file.readline()\n",
    "    for y, line in enumerate(file):\n",
    "        for x, v in enumerate(line.strip()):\n",
    "            data[x, y] = sub[v]"
   ]
  },
  {
   "cell_type": "code",
   "execution_count": 2,
   "id": "f5c3a624-4184-4d9e-acba-cab63e3e3a80",
   "metadata": {},
   "outputs": [],
   "source": [
    "def process(data, default='0'):\n",
    "    minx, miny, maxx, maxy = (\n",
    "        min(x for x, y in data) - 1,\n",
    "        min(y for x, y in data) - 1,\n",
    "        max(x for x, y in data) + 2, \n",
    "        max(y for x, y in data) + 2)\n",
    "    result = {}\n",
    "    for y in range(miny, maxy):\n",
    "        for x in range(minx, maxx):\n",
    "            code = ''\n",
    "            for sy in (-1, 0, 1):\n",
    "                for sx in (-1, 0, 1):\n",
    "                    code += data.get((x + sx, y + sy), default)\n",
    "            result[x, y] = pixels[code]\n",
    "    return result"
   ]
  },
  {
   "cell_type": "code",
   "execution_count": 3,
   "id": "e9ca4365-1edb-4861-8dce-76cc19a6d2b3",
   "metadata": {},
   "outputs": [
    {
     "name": "stdout",
     "output_type": "stream",
     "text": [
      "[02] 5765\n",
      "[50] 18509\n",
      "CPU times: user 2.69 s, sys: 3.99 ms, total: 2.69 s\n",
      "Wall time: 2.7 s\n"
     ]
    }
   ],
   "source": [
    "%%time\n",
    "from itertools import cycle\n",
    "\n",
    "work = data.copy()\n",
    "for i, default in enumerate(cycle(('0', '1')), start=1):\n",
    "    if i > 50:\n",
    "        break\n",
    "    work = process(work, default=default)\n",
    "    if i == 2 or i == 50:\n",
    "        print(f\"[{i:02}] {sum(map(int, work.values()))}\")"
   ]
  }
 ],
 "metadata": {
  "kernelspec": {
   "display_name": "Python 3 (ipykernel)",
   "language": "python",
   "name": "python3"
  },
  "language_info": {
   "codemirror_mode": {
    "name": "ipython",
    "version": 3
   },
   "file_extension": ".py",
   "mimetype": "text/x-python",
   "name": "python",
   "nbconvert_exporter": "python",
   "pygments_lexer": "ipython3",
   "version": "3.10.0"
  }
 },
 "nbformat": 4,
 "nbformat_minor": 5
}
