{
 "cells": [
  {
   "cell_type": "code",
   "execution_count": 1,
   "id": "ce61410c-a261-42fa-8ae0-9c404dcbb0ec",
   "metadata": {},
   "outputs": [],
   "source": [
    "data = {}\n",
    "with open(\"Day11.txt\") as file:\n",
    "    for y, line in enumerate(file):\n",
    "        for x, value in enumerate(line.strip()):\n",
    "            data[x, y] = int(value)"
   ]
  },
  {
   "cell_type": "code",
   "execution_count": 2,
   "id": "bd56d8c4-b408-4e66-8ca3-1632375cbfb4",
   "metadata": {},
   "outputs": [],
   "source": [
    "def run_cycle():\n",
    "    for x in range(10):\n",
    "        for y in range(10):\n",
    "            data[x, y] += 1\n",
    "    total_flashes = 0\n",
    "    flashes = {key for key, value in data.items() if value > 9}\n",
    "    while flashes:\n",
    "        for x, y in flashes:\n",
    "            total_flashes += 1\n",
    "            data[x, y] = 0\n",
    "            for dx in range(x - 1, x + 2):\n",
    "                for dy in range(y - 1, y + 2):\n",
    "                    if (x, y) == (dx, dy) or (dx, dy) not in data or data[dx, dy] == 0:\n",
    "                        continue\n",
    "                    data[dx, dy] += 1\n",
    "        flashes = {key for key, value in data.items() if value > 9}\n",
    "    return total_flashes"
   ]
  },
  {
   "cell_type": "code",
   "execution_count": 3,
   "id": "e22012e8-f91c-493f-8586-20992f8e4f90",
   "metadata": {},
   "outputs": [
    {
     "name": "stdout",
     "output_type": "stream",
     "text": [
      "CPU times: user 10.4 ms, sys: 69 µs, total: 10.5 ms\n",
      "Wall time: 10.4 ms\n"
     ]
    },
    {
     "data": {
      "text/plain": [
       "1594"
      ]
     },
     "execution_count": 3,
     "metadata": {},
     "output_type": "execute_result"
    }
   ],
   "source": [
    "%%time\n",
    "sum(run_cycle() for _ in range(100))"
   ]
  },
  {
   "cell_type": "code",
   "execution_count": 4,
   "id": "c036e63b-9b97-44c8-93d4-4ece2a1b0194",
   "metadata": {},
   "outputs": [
    {
     "name": "stdout",
     "output_type": "stream",
     "text": [
      "CPU times: user 33.8 ms, sys: 63 µs, total: 33.8 ms\n",
      "Wall time: 33 ms\n"
     ]
    },
    {
     "data": {
      "text/plain": [
       "437"
      ]
     },
     "execution_count": 4,
     "metadata": {},
     "output_type": "execute_result"
    }
   ],
   "source": [
    "%%time\n",
    "cycle = 100\n",
    "while True:\n",
    "    cycle += 1\n",
    "    if run_cycle() == 100:\n",
    "        break\n",
    "cycle"
   ]
  }
 ],
 "metadata": {
  "kernelspec": {
   "display_name": "Python 3 (ipykernel)",
   "language": "python",
   "name": "python3"
  },
  "language_info": {
   "codemirror_mode": {
    "name": "ipython",
    "version": 3
   },
   "file_extension": ".py",
   "mimetype": "text/x-python",
   "name": "python",
   "nbconvert_exporter": "python",
   "pygments_lexer": "ipython3",
   "version": "3.10.0"
  }
 },
 "nbformat": 4,
 "nbformat_minor": 5
}
