{
 "cells": [
  {
   "cell_type": "code",
   "execution_count": 1,
   "id": "f42e21fe-7078-4c48-9d02-040abdcc5990",
   "metadata": {},
   "outputs": [],
   "source": [
    "neighbors = {}\n",
    "with open(\"Day12.txt\") as file:\n",
    "    for line in file:\n",
    "        start, end = line.strip().split(\"-\")\n",
    "        neighbors.setdefault(start, []).append(end)\n",
    "        neighbors.setdefault(end, []).append(start)"
   ]
  },
  {
   "cell_type": "code",
   "execution_count": 2,
   "id": "24c27ee4-6757-4a0e-9c01-9208db6f6bc4",
   "metadata": {},
   "outputs": [],
   "source": [
    "from collections import Counter\n",
    "\n",
    "def browse(node='start', counts=None, revisit=False):\n",
    "    if node == 'end':\n",
    "        return 1\n",
    "    counts = counts.copy() if counts else Counter()\n",
    "    if node != 'start' and node.islower():\n",
    "        counts.update((node, ))\n",
    "    paths = 0\n",
    "    for neighbor in neighbors.get(node, ()):\n",
    "        if neighbor == 'start':\n",
    "            continue\n",
    "        if revisit and neighbor.islower():\n",
    "            if counts.get(neighbor) == 2:\n",
    "                continue\n",
    "            if neighbor in counts and counts.total() > len(counts):\n",
    "                continue\n",
    "        elif neighbor.islower() and neighbor in counts:\n",
    "            continue\n",
    "        paths += browse(neighbor, counts, revisit)\n",
    "    return paths"
   ]
  },
  {
   "cell_type": "code",
   "execution_count": 3,
   "id": "7bc6286c-c8b9-4d61-a33d-1f8da4817857",
   "metadata": {},
   "outputs": [
    {
     "name": "stdout",
     "output_type": "stream",
     "text": [
      "CPU times: user 24.4 ms, sys: 4 µs, total: 24.4 ms\n",
      "Wall time: 23.8 ms\n"
     ]
    },
    {
     "data": {
      "text/plain": [
       "4104"
      ]
     },
     "execution_count": 3,
     "metadata": {},
     "output_type": "execute_result"
    }
   ],
   "source": [
    "%%time\n",
    "browse()"
   ]
  },
  {
   "cell_type": "code",
   "execution_count": 4,
   "id": "66196e55-1398-482b-bf33-b3a130a15779",
   "metadata": {},
   "outputs": [
    {
     "name": "stdout",
     "output_type": "stream",
     "text": [
      "CPU times: user 782 ms, sys: 550 µs, total: 783 ms\n",
      "Wall time: 780 ms\n"
     ]
    },
    {
     "data": {
      "text/plain": [
       "119760"
      ]
     },
     "execution_count": 4,
     "metadata": {},
     "output_type": "execute_result"
    }
   ],
   "source": [
    "%%time\n",
    "browse(revisit=True)"
   ]
  }
 ],
 "metadata": {
  "kernelspec": {
   "display_name": "Python 3 (ipykernel)",
   "language": "python",
   "name": "python3"
  },
  "language_info": {
   "codemirror_mode": {
    "name": "ipython",
    "version": 3
   },
   "file_extension": ".py",
   "mimetype": "text/x-python",
   "name": "python",
   "nbconvert_exporter": "python",
   "pygments_lexer": "ipython3",
   "version": "3.10.0"
  }
 },
 "nbformat": 4,
 "nbformat_minor": 5
}
