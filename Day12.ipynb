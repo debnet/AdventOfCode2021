{
 "cells": [
  {
   "cell_type": "code",
   "execution_count": 1,
   "id": "f42e21fe-7078-4c48-9d02-040abdcc5990",
   "metadata": {},
   "outputs": [],
   "source": [
    "neighbors = {}\n",
    "with open(\"Day12.txt\") as file:\n",
    "    for line in file:\n",
    "        start, end = line.strip().split(\"-\")\n",
    "        neighbors.setdefault(start, []).append(end)\n",
    "        neighbors.setdefault(end, []).append(start)"
   ]
  },
  {
   "cell_type": "code",
   "execution_count": 2,
   "id": "24c27ee4-6757-4a0e-9c01-9208db6f6bc4",
   "metadata": {},
   "outputs": [],
   "source": [
    "def browse(node='start', path=(), revisit=False):\n",
    "    path = path + (node, )\n",
    "    if node == 'end':\n",
    "        return 1\n",
    "    paths = 0\n",
    "    for neighbor in neighbors.get(node, ()):\n",
    "        if neighbor == 'start':\n",
    "            continue\n",
    "        if revisit and neighbor.islower():\n",
    "            if path.count(neighbor) == 2:\n",
    "                continue\n",
    "            if neighbor in path and any(path.count(node) == 2 for node in path if node.islower()):\n",
    "                continue\n",
    "        elif neighbor.islower() and neighbor in path:\n",
    "            continue\n",
    "        paths += browse(neighbor, path, revisit)\n",
    "    return paths"
   ]
  },
  {
   "cell_type": "code",
   "execution_count": 3,
   "id": "7bc6286c-c8b9-4d61-a33d-1f8da4817857",
   "metadata": {},
   "outputs": [
    {
     "name": "stdout",
     "output_type": "stream",
     "text": [
      "CPU times: user 10.1 ms, sys: 0 ns, total: 10.1 ms\n",
      "Wall time: 9.82 ms\n"
     ]
    },
    {
     "data": {
      "text/plain": [
       "4104"
      ]
     },
     "execution_count": 3,
     "metadata": {},
     "output_type": "execute_result"
    }
   ],
   "source": [
    "%%time\n",
    "browse()"
   ]
  },
  {
   "cell_type": "code",
   "execution_count": 4,
   "id": "66196e55-1398-482b-bf33-b3a130a15779",
   "metadata": {},
   "outputs": [
    {
     "name": "stdout",
     "output_type": "stream",
     "text": [
      "CPU times: user 1.15 s, sys: 2.29 ms, total: 1.15 s\n",
      "Wall time: 1.15 s\n"
     ]
    },
    {
     "data": {
      "text/plain": [
       "119760"
      ]
     },
     "execution_count": 4,
     "metadata": {},
     "output_type": "execute_result"
    }
   ],
   "source": [
    "%%time\n",
    "browse(revisit=True)"
   ]
  }
 ],
 "metadata": {
  "kernelspec": {
   "display_name": "Python 3 (ipykernel)",
   "language": "python",
   "name": "python3"
  },
  "language_info": {
   "codemirror_mode": {
    "name": "ipython",
    "version": 3
   },
   "file_extension": ".py",
   "mimetype": "text/x-python",
   "name": "python",
   "nbconvert_exporter": "python",
   "pygments_lexer": "ipython3",
   "version": "3.10.0"
  }
 },
 "nbformat": 4,
 "nbformat_minor": 5
}
