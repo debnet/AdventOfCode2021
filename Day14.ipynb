{
 "cells": [
  {
   "cell_type": "code",
   "execution_count": 1,
   "id": "0f7223f2-d49d-4aec-9877-0130ef5b546c",
   "metadata": {},
   "outputs": [],
   "source": [
    "template, inserts = [], {}\n",
    "with open('Day14.txt') as file:\n",
    "    for line in file:\n",
    "        line = line.strip()\n",
    "        if not line:\n",
    "            continue\n",
    "        if '->' in line:\n",
    "            pair, insert = line.split(' -> ')\n",
    "            inserts[pair] = insert\n",
    "        else:\n",
    "            template = line"
   ]
  },
  {
   "cell_type": "code",
   "execution_count": 2,
   "id": "3994faea-095d-4b77-b379-bbfe8dd45514",
   "metadata": {},
   "outputs": [],
   "source": [
    "from collections import Counter\n",
    "from itertools import pairwise\n",
    "\n",
    "def count(template, cycles=10):\n",
    "    atom_counts = Counter(template)\n",
    "    pair_counts = Counter(map(''.join, pairwise(template)))\n",
    "    for _ in range(cycles):\n",
    "        new_pair_counts = Counter()\n",
    "        for pair, count in pair_counts.items():\n",
    "            insert = inserts[pair]\n",
    "            atom1, atom2 = pair\n",
    "            new_pair_counts[atom1 + insert] += count\n",
    "            new_pair_counts[insert + atom2] += count\n",
    "            atom_counts[insert] += count\n",
    "        pair_counts = new_pair_counts\n",
    "    (_, maxi), *_, (_, mini) = atom_counts.most_common()\n",
    "    return maxi - mini"
   ]
  },
  {
   "cell_type": "code",
   "execution_count": 3,
   "id": "0ea2eb60-8592-43ff-9a1f-48aadf87e55e",
   "metadata": {},
   "outputs": [
    {
     "name": "stdout",
     "output_type": "stream",
     "text": [
      "CPU times: user 922 µs, sys: 0 ns, total: 922 µs\n",
      "Wall time: 938 µs\n"
     ]
    },
    {
     "data": {
      "text/plain": [
       "3306"
      ]
     },
     "execution_count": 3,
     "metadata": {},
     "output_type": "execute_result"
    }
   ],
   "source": [
    "%%time\n",
    "count(template, cycles=10)"
   ]
  },
  {
   "cell_type": "code",
   "execution_count": 4,
   "id": "2aeb7351-3756-4fd9-b638-3a923c7310c8",
   "metadata": {},
   "outputs": [
    {
     "name": "stdout",
     "output_type": "stream",
     "text": [
      "CPU times: user 3.95 ms, sys: 0 ns, total: 3.95 ms\n",
      "Wall time: 3.99 ms\n"
     ]
    },
    {
     "data": {
      "text/plain": [
       "3760312702877"
      ]
     },
     "execution_count": 4,
     "metadata": {},
     "output_type": "execute_result"
    }
   ],
   "source": [
    "%%time\n",
    "count(template, cycles=40)"
   ]
  }
 ],
 "metadata": {
  "kernelspec": {
   "display_name": "Python 3 (ipykernel)",
   "language": "python",
   "name": "python3"
  },
  "language_info": {
   "codemirror_mode": {
    "name": "ipython",
    "version": 3
   },
   "file_extension": ".py",
   "mimetype": "text/x-python",
   "name": "python",
   "nbconvert_exporter": "python",
   "pygments_lexer": "ipython3",
   "version": "3.10.0"
  }
 },
 "nbformat": 4,
 "nbformat_minor": 5
}
