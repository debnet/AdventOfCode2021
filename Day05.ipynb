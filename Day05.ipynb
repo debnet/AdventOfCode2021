{
 "cells": [
  {
   "cell_type": "code",
   "execution_count": 1,
   "id": "4475bda1-2f87-473d-97ee-611d4afa9b6b",
   "metadata": {},
   "outputs": [],
   "source": [
    "data = []\n",
    "with open('Day05.txt') as file:\n",
    "    for line in file.read().splitlines():\n",
    "        a, b = line.split(' -> ')\n",
    "        a, b = map(int, a.split(',')), map(int, b.split(','))\n",
    "        data.append((tuple(a), tuple(b)))"
   ]
  },
  {
   "cell_type": "code",
   "execution_count": 2,
   "id": "fcac8b11-d0e9-4bdf-b880-66d08383950a",
   "metadata": {},
   "outputs": [],
   "source": [
    "def arange(a, b):\n",
    "    if a > b:\n",
    "        return range(a, b - 1, -1)\n",
    "    return range(a, b + 1)"
   ]
  },
  {
   "cell_type": "code",
   "execution_count": 3,
   "id": "43b9b588-fe6a-43c8-bc49-c67380a1ae0f",
   "metadata": {},
   "outputs": [
    {
     "name": "stdout",
     "output_type": "stream",
     "text": [
      "CPU times: user 78.6 ms, sys: 7.14 ms, total: 85.7 ms\n",
      "Wall time: 84.3 ms\n"
     ]
    },
    {
     "data": {
      "text/plain": [
       "6397"
      ]
     },
     "execution_count": 3,
     "metadata": {},
     "output_type": "execute_result"
    }
   ],
   "source": [
    "%%time\n",
    "grid = {}\n",
    "for (x1, y1), (x2, y2) in data:\n",
    "    if x1 != x2 and y1 != y2:\n",
    "        continue\n",
    "    for x in arange(x1, x2):\n",
    "        for y in arange(y1, y2):\n",
    "            grid[x, y] = grid.get((x, y), 0) + 1\n",
    "sum(v > 1 for v in grid.values())"
   ]
  },
  {
   "cell_type": "code",
   "execution_count": 4,
   "id": "b04fb3a1-5f3c-4a0a-9594-fdd48a72846c",
   "metadata": {},
   "outputs": [
    {
     "name": "stdout",
     "output_type": "stream",
     "text": [
      "CPU times: user 98.9 ms, sys: 7.83 ms, total: 107 ms\n",
      "Wall time: 105 ms\n"
     ]
    },
    {
     "data": {
      "text/plain": [
       "22335"
      ]
     },
     "execution_count": 4,
     "metadata": {},
     "output_type": "execute_result"
    }
   ],
   "source": [
    "%%time\n",
    "grid = {}\n",
    "for (x1, y1), (x2, y2) in data:\n",
    "    if x1 == x2 or y1 == y2:\n",
    "        for x in arange(x1, x2):\n",
    "            for y in arange(y1, y2):\n",
    "                grid[x, y] = grid.get((x, y), 0) + 1\n",
    "    else:\n",
    "        for x, y in zip(arange(x1, x2), arange(y1, y2)):\n",
    "            grid[x, y] = grid.get((x, y), 0) + 1\n",
    "sum(v > 1 for v in grid.values())"
   ]
  }
 ],
 "metadata": {
  "kernelspec": {
   "display_name": "Python 3 (ipykernel)",
   "language": "python",
   "name": "python3"
  },
  "language_info": {
   "codemirror_mode": {
    "name": "ipython",
    "version": 3
   },
   "file_extension": ".py",
   "mimetype": "text/x-python",
   "name": "python",
   "nbconvert_exporter": "python",
   "pygments_lexer": "ipython3",
   "version": "3.10.0"
  }
 },
 "nbformat": 4,
 "nbformat_minor": 5
}
