{
 "cells": [
  {
   "cell_type": "code",
   "execution_count": 1,
   "id": "dfdb01e5-b3b2-45d8-985b-b42642612923",
   "metadata": {},
   "outputs": [],
   "source": [
    "import re\n",
    "with open('Day17.txt') as file:\n",
    "    x1, x2, y1, y2 = map(int, re.findall(r'-?\\d+', file.read()))"
   ]
  },
  {
   "cell_type": "code",
   "execution_count": 2,
   "id": "9d385580-d4ca-43ee-976a-0b0ef974ff41",
   "metadata": {},
   "outputs": [
    {
     "data": {
      "text/plain": [
       "7503"
      ]
     },
     "execution_count": 2,
     "metadata": {},
     "output_type": "execute_result"
    }
   ],
   "source": [
    "ymax = -y1 - 1\n",
    "(ymax * (ymax + 1)) // 2"
   ]
  },
  {
   "cell_type": "code",
   "execution_count": 3,
   "id": "ea6a23c2-9d6c-42a7-b6ce-3adee51fc5ec",
   "metadata": {},
   "outputs": [
    {
     "name": "stdout",
     "output_type": "stream",
     "text": [
      "CPU times: user 10.2 ms, sys: 13 µs, total: 10.2 ms\n",
      "Wall time: 10 ms\n"
     ]
    },
    {
     "data": {
      "text/plain": [
       "3229"
      ]
     },
     "execution_count": 3,
     "metadata": {},
     "output_type": "execute_result"
    }
   ],
   "source": [
    "%%time\n",
    "result = 0\n",
    "for vy in range(y1, 1 - y1):\n",
    "    y, sy, vx = 0, 0, set()\n",
    "    while y1 <= y:\n",
    "        x, sx = 0, 0\n",
    "        if y <= y2:\n",
    "            while x <= x2:\n",
    "                if x1 <= x: \n",
    "                    vx.add(sx)\n",
    "                sx, x = sx + 1, x + min(sx, sy)\n",
    "        sy, y, vy = sy + 1, y + vy, vy - 1\n",
    "    result += len(vx)\n",
    "result"
   ]
  }
 ],
 "metadata": {
  "kernelspec": {
   "display_name": "Python 3 (ipykernel)",
   "language": "python",
   "name": "python3"
  },
  "language_info": {
   "codemirror_mode": {
    "name": "ipython",
    "version": 3
   },
   "file_extension": ".py",
   "mimetype": "text/x-python",
   "name": "python",
   "nbconvert_exporter": "python",
   "pygments_lexer": "ipython3",
   "version": "3.10.0"
  }
 },
 "nbformat": 4,
 "nbformat_minor": 5
}
