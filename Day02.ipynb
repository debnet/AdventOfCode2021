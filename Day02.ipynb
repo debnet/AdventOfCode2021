{
 "cells": [
  {
   "cell_type": "code",
   "execution_count": 1,
   "id": "d794f88a-3fe8-4ec3-b236-f85001518d20",
   "metadata": {},
   "outputs": [],
   "source": [
    "data = []\n",
    "with open('Day02.txt') as file:\n",
    "    for line in file.readlines():\n",
    "        action, amount = line.split()\n",
    "        data.append((action, int(amount)))"
   ]
  },
  {
   "cell_type": "code",
   "execution_count": 2,
   "id": "9d5cb4ca-2cc2-47a1-87c2-b94bf14571c2",
   "metadata": {},
   "outputs": [
    {
     "data": {
      "text/plain": [
       "1746616"
      ]
     },
     "execution_count": 2,
     "metadata": {},
     "output_type": "execute_result"
    }
   ],
   "source": [
    "directions = {\n",
    "    \"forward\": (+1, 0),\n",
    "    \"down\": (0, +1),\n",
    "    \"up\": (0, -1),\n",
    "}\n",
    "x, y = 0, 0\n",
    "for action, amount in data:\n",
    "    sx, sy = directions[action]\n",
    "    x += amount * sx\n",
    "    y += amount * sy\n",
    "x * y"
   ]
  },
  {
   "cell_type": "code",
   "execution_count": 3,
   "id": "c5274ead-9211-4feb-b7fa-1f273adcaddb",
   "metadata": {},
   "outputs": [
    {
     "data": {
      "text/plain": [
       "1741971043"
      ]
     },
     "execution_count": 3,
     "metadata": {},
     "output_type": "execute_result"
    }
   ],
   "source": [
    "a, x, y = 0, 0, 0\n",
    "for action, amount in data:\n",
    "    sx, sa = directions[action]\n",
    "    a += amount * sa\n",
    "    x += amount * sx\n",
    "    y += (amount * a) if sx else 0\n",
    "x * y"
   ]
  }
 ],
 "metadata": {
  "kernelspec": {
   "display_name": "Python 3 (ipykernel)",
   "language": "python",
   "name": "python3"
  },
  "language_info": {
   "codemirror_mode": {
    "name": "ipython",
    "version": 3
   },
   "file_extension": ".py",
   "mimetype": "text/x-python",
   "name": "python",
   "nbconvert_exporter": "python",
   "pygments_lexer": "ipython3",
   "version": "3.10.0"
  }
 },
 "nbformat": 4,
 "nbformat_minor": 5
}
