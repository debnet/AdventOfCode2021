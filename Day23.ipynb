{
 "cells": [
  {
   "cell_type": "code",
   "execution_count": 1,
   "id": "7aa90d03-4b07-4ae6-a9c6-e054ecbfddc0",
   "metadata": {},
   "outputs": [],
   "source": [
    "from functools import cache\n",
    "\n",
    "GOALS = {\"A\": 0, \"B\": 1, \"C\": 2, \"D\": 3}\n",
    "COSTS = {\"A\": 1, \"B\": 10, \"C\": 100, \"D\": 1000}\n",
    "ROOM_SPOTS = (2, 4, 6, 8)\n",
    "HALLWAY_SPOTS = (0, 1, 3, 5, 7, 9, 10)\n",
    "HALLWAY_START = tuple(None for _ in range(len(ROOM_SPOTS) + len(HALLWAY_SPOTS)))\n",
    "\n",
    "@cache\n",
    "def solve(rooms, hallway=None):\n",
    "    hallway = hallway or HALLWAY_START\n",
    "    if rooms == ((\"A\",) * 4, (\"B\",) * 4, (\"C\",) * 4, (\"D\",) * 4):\n",
    "        return 0\n",
    "\n",
    "    best_cost = float('inf')\n",
    "    for i, piece in enumerate(hallway):\n",
    "        if piece is None:\n",
    "            continue\n",
    "        goal = GOALS[piece]\n",
    "        can_move = True\n",
    "        for neighbour in rooms[goal]:\n",
    "            if neighbour is not None and neighbour != piece:\n",
    "                can_move = False\n",
    "                break\n",
    "        if not can_move:\n",
    "            continue\n",
    "        offset = 1 if ROOM_SPOTS[goal] > i else -1\n",
    "        for j in range(i + offset, ROOM_SPOTS[goal] + offset, offset):\n",
    "            if hallway[j] is not None:\n",
    "                can_move = False\n",
    "                break\n",
    "        if not can_move:\n",
    "            continue\n",
    "        none_count = sum(elem is None for elem in rooms[goal])\n",
    "        new_room = (None,) * (none_count - 1) + (piece,) * (4 - none_count + 1)\n",
    "        steps = none_count + abs(i - ROOM_SPOTS[goal])\n",
    "        cost = steps * COSTS[piece]\n",
    "        new_rooms = rooms[:goal] + (new_room,) + rooms[goal + 1:]\n",
    "        new_hallway = hallway[:i] + (None,) + hallway[i + 1:]\n",
    "        new_cost = cost + solve(new_rooms, new_hallway)\n",
    "        if new_cost < best_cost:\n",
    "            best_cost = new_cost\n",
    "    for i, room in enumerate(rooms):\n",
    "        wants_to_move = False\n",
    "        for item in room:\n",
    "            if item is not None and GOALS[item] != i:\n",
    "                wants_to_move = True\n",
    "        if not wants_to_move:\n",
    "            continue\n",
    "        none_count = sum(elem is None for elem in room)\n",
    "        steps = none_count + 1\n",
    "        piece = room[none_count]\n",
    "        for hall_goal in HALLWAY_SPOTS:\n",
    "            destination_steps = steps + abs(hall_goal - ROOM_SPOTS[i])\n",
    "            destination_cost = destination_steps * COSTS[piece]\n",
    "            blocked = False\n",
    "            for j in range(min(hall_goal, ROOM_SPOTS[i]), max(hall_goal, ROOM_SPOTS[i]) + 1):\n",
    "                if hallway[j] is not None:\n",
    "                    blocked = True\n",
    "                    break\n",
    "            if blocked:\n",
    "                continue\n",
    "            new_room = (None,) * (none_count + 1) + room[none_count + 1:]\n",
    "            new_rooms = rooms[:i] + (new_room,) + rooms[i + 1:]\n",
    "            new_hallway = hallway[:hall_goal] + (piece,) + hallway[hall_goal + 1:]\n",
    "            new_cost = destination_cost + solve(new_rooms, new_hallway)\n",
    "            if new_cost < best_cost:\n",
    "                best_cost = new_cost\n",
    "    return best_cost"
   ]
  },
  {
   "cell_type": "code",
   "execution_count": 2,
   "id": "8e53bc0c-d5de-4084-ab74-0dc8e1adc664",
   "metadata": {},
   "outputs": [
    {
     "name": "stdout",
     "output_type": "stream",
     "text": [
      "CPU times: user 1.29 s, sys: 18.3 ms, total: 1.3 s\n",
      "Wall time: 1.3 s\n"
     ]
    },
    {
     "data": {
      "text/plain": [
       "16059"
      ]
     },
     "execution_count": 2,
     "metadata": {},
     "output_type": "execute_result"
    }
   ],
   "source": [
    "%%time\n",
    "solve((('D', 'B'), ('D', 'A'), ('C', 'B'), ('C', 'A')))"
   ]
  },
  {
   "cell_type": "code",
   "execution_count": 3,
   "id": "480aa85f-d7dd-4536-88af-5252568270bc",
   "metadata": {},
   "outputs": [
    {
     "name": "stdout",
     "output_type": "stream",
     "text": [
      "CPU times: user 1.9 s, sys: 12.8 ms, total: 1.92 s\n",
      "Wall time: 1.92 s\n"
     ]
    },
    {
     "data": {
      "text/plain": [
       "43117"
      ]
     },
     "execution_count": 3,
     "metadata": {},
     "output_type": "execute_result"
    }
   ],
   "source": [
    "%%time\n",
    "solve((('D', 'D', 'D', 'B'), ('D', 'C', 'B', 'A'), ('C', 'B', 'A', 'B'), ('C', 'A', 'C', 'A')))"
   ]
  },
  {
   "cell_type": "code",
   "execution_count": 4,
   "id": "1a053a7d-0dd1-4f13-a03b-5335486ee076",
   "metadata": {},
   "outputs": [
    {
     "data": {
      "text/plain": [
       "CacheInfo(hits=211469, misses=163815, maxsize=None, currsize=163815)"
      ]
     },
     "execution_count": 4,
     "metadata": {},
     "output_type": "execute_result"
    }
   ],
   "source": [
    "solve.cache_info()"
   ]
  }
 ],
 "metadata": {
  "kernelspec": {
   "display_name": "Python 3 (ipykernel)",
   "language": "python",
   "name": "python3"
  },
  "language_info": {
   "codemirror_mode": {
    "name": "ipython",
    "version": 3
   },
   "file_extension": ".py",
   "mimetype": "text/x-python",
   "name": "python",
   "nbconvert_exporter": "python",
   "pygments_lexer": "ipython3",
   "version": "3.10.1"
  }
 },
 "nbformat": 4,
 "nbformat_minor": 5
}
