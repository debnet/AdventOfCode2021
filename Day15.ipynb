{
 "cells": [
  {
   "cell_type": "code",
   "execution_count": 1,
   "id": "4119ac45-5446-4fee-b12d-47cd542c247e",
   "metadata": {},
   "outputs": [],
   "source": [
    "base_data = {}\n",
    "with open('Day15.txt') as file:\n",
    "    for y, line in enumerate(file):\n",
    "        for x, value in enumerate(line.strip()):\n",
    "            base_data[x, y] = int(value)"
   ]
  },
  {
   "cell_type": "code",
   "execution_count": 2,
   "id": "c14e1d05-75c6-4cf6-90d8-837645e54274",
   "metadata": {},
   "outputs": [],
   "source": [
    "mx, my = max(base_data)\n",
    "data_values = {0: base_data}\n",
    "for i in range(1, 9):\n",
    "    data_values[i] = data = {}\n",
    "    for node, value in data_values[i - 1].items():\n",
    "        data[node] = ((value + 1) % 10) or 1\n",
    "full_data = {}\n",
    "for iy in range(5):\n",
    "    for ix in range(5):\n",
    "        for (x, y), value in data_values[ix + iy].items():\n",
    "            x, y = x + ix * (mx + 1), y + iy * (my + 1)\n",
    "            full_data[x, y] = value"
   ]
  },
  {
   "cell_type": "code",
   "execution_count": 3,
   "id": "53f823cd-e0d2-44fc-9c9e-958a7a83f6fa",
   "metadata": {},
   "outputs": [],
   "source": [
    "import networkx as nx\n",
    "\n",
    "def create_graph(data):\n",
    "    graph = nx.DiGraph()\n",
    "    graph.add_nodes_from(data)\n",
    "    for x, y in data:\n",
    "        for sx, sy in ((0, 1), (1, 0), (0, -1), (-1, 0)):\n",
    "            dx, dy = x + sx, y + sy\n",
    "            weight = data.get((dx, dy))\n",
    "            if not weight:\n",
    "                continue\n",
    "            graph.add_edge((x, y), (dx, dy), weight=weight)\n",
    "    return graph"
   ]
  },
  {
   "cell_type": "code",
   "execution_count": 4,
   "id": "f6628923-7706-46b8-b14b-6a96deff811f",
   "metadata": {},
   "outputs": [
    {
     "name": "stdout",
     "output_type": "stream",
     "text": [
      "CPU times: user 106 ms, sys: 13.1 ms, total: 119 ms\n",
      "Wall time: 117 ms\n"
     ]
    },
    {
     "data": {
      "text/plain": [
       "527"
      ]
     },
     "execution_count": 4,
     "metadata": {},
     "output_type": "execute_result"
    }
   ],
   "source": [
    "%%time\n",
    "graph = create_graph(base_data)\n",
    "nx.dijkstra_path_length(graph, (0, 0), max(base_data))"
   ]
  },
  {
   "cell_type": "code",
   "execution_count": 5,
   "id": "869e7556-276c-40c2-b61c-72668c062d30",
   "metadata": {},
   "outputs": [
    {
     "name": "stdout",
     "output_type": "stream",
     "text": [
      "CPU times: user 3.15 s, sys: 139 ms, total: 3.29 s\n",
      "Wall time: 3.3 s\n"
     ]
    },
    {
     "data": {
      "text/plain": [
       "2887"
      ]
     },
     "execution_count": 5,
     "metadata": {},
     "output_type": "execute_result"
    }
   ],
   "source": [
    "%%time\n",
    "graph = create_graph(full_data)\n",
    "nx.dijkstra_path_length(graph, (0, 0), max(full_data))"
   ]
  }
 ],
 "metadata": {
  "kernelspec": {
   "display_name": "Python 3 (ipykernel)",
   "language": "python",
   "name": "python3"
  },
  "language_info": {
   "codemirror_mode": {
    "name": "ipython",
    "version": 3
   },
   "file_extension": ".py",
   "mimetype": "text/x-python",
   "name": "python",
   "nbconvert_exporter": "python",
   "pygments_lexer": "ipython3",
   "version": "3.10.0"
  }
 },
 "nbformat": 4,
 "nbformat_minor": 5
}
