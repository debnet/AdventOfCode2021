{
 "cells": [
  {
   "cell_type": "code",
   "execution_count": 1,
   "id": "4119ac45-5446-4fee-b12d-47cd542c247e",
   "metadata": {},
   "outputs": [],
   "source": [
    "base_data = {}\n",
    "with open('Day15.txt') as file:\n",
    "    for y, line in enumerate(file):\n",
    "        for x, value in enumerate(line.strip()):\n",
    "            base_data[x, y] = int(value)"
   ]
  },
  {
   "cell_type": "code",
   "execution_count": 2,
   "id": "c14e1d05-75c6-4cf6-90d8-837645e54274",
   "metadata": {},
   "outputs": [
    {
     "name": "stdout",
     "output_type": "stream",
     "text": [
      "CPU times: user 166 ms, sys: 9.09 ms, total: 175 ms\n",
      "Wall time: 173 ms\n"
     ]
    }
   ],
   "source": [
    "%%time\n",
    "mx, my = max(base_data)\n",
    "data_values = {0: base_data}\n",
    "for i in range(1, 9):\n",
    "    data_values[i] = data = {}\n",
    "    for node, value in data_values[i - 1].items():\n",
    "        data[node] = ((value + 1) % 10) or 1\n",
    "data = {}\n",
    "for iy in range(5):\n",
    "    for ix in range(5):\n",
    "        for (x, y), value in data_values[ix + iy].items():\n",
    "            x, y = x + ix * (mx + 1), y + iy * (my + 1)\n",
    "            data[x, y] = value\n",
    "mmx, mmy = max(data)"
   ]
  },
  {
   "cell_type": "code",
   "execution_count": 3,
   "id": "53f823cd-e0d2-44fc-9c9e-958a7a83f6fa",
   "metadata": {},
   "outputs": [
    {
     "name": "stdout",
     "output_type": "stream",
     "text": [
      "CPU times: user 2.26 s, sys: 129 ms, total: 2.39 s\n",
      "Wall time: 2.39 s\n"
     ]
    }
   ],
   "source": [
    "%%time\n",
    "import networkx as nx\n",
    "\n",
    "graph = nx.DiGraph()\n",
    "for (x, y), value in data.items():\n",
    "    graph.add_node((x, y), weight=value)\n",
    "for orig, orig_value in data.items():\n",
    "    x, y = orig\n",
    "    for sx, sy in ((0, 1), (1, 0)):\n",
    "        dest = (x + sx, y + sy)\n",
    "        dest_value = data.get(dest)\n",
    "        if not dest_value:\n",
    "            continue\n",
    "        graph.add_edge(orig, dest, weight=dest_value)\n",
    "        graph.add_edge(dest, orig, weight=orig_value)"
   ]
  },
  {
   "cell_type": "code",
   "execution_count": 4,
   "id": "f6628923-7706-46b8-b14b-6a96deff811f",
   "metadata": {},
   "outputs": [
    {
     "name": "stdout",
     "output_type": "stream",
     "text": [
      "CPU times: user 58 ms, sys: 58 µs, total: 58.1 ms\n",
      "Wall time: 56.6 ms\n"
     ]
    },
    {
     "data": {
      "text/plain": [
       "525"
      ]
     },
     "execution_count": 4,
     "metadata": {},
     "output_type": "execute_result"
    }
   ],
   "source": [
    "%%time\n",
    "nx.dijkstra_path_length(graph, (0, 0), (mx, my))"
   ]
  },
  {
   "cell_type": "code",
   "execution_count": 5,
   "id": "869e7556-276c-40c2-b61c-72668c062d30",
   "metadata": {},
   "outputs": [
    {
     "name": "stdout",
     "output_type": "stream",
     "text": [
      "CPU times: user 980 ms, sys: 11.8 ms, total: 992 ms\n",
      "Wall time: 994 ms\n"
     ]
    },
    {
     "data": {
      "text/plain": [
       "2887"
      ]
     },
     "execution_count": 5,
     "metadata": {},
     "output_type": "execute_result"
    }
   ],
   "source": [
    "%%time\n",
    "nx.dijkstra_path_length(graph, (0, 0), (mmx, mmy))"
   ]
  }
 ],
 "metadata": {
  "kernelspec": {
   "display_name": "Python 3 (ipykernel)",
   "language": "python",
   "name": "python3"
  },
  "language_info": {
   "codemirror_mode": {
    "name": "ipython",
    "version": 3
   },
   "file_extension": ".py",
   "mimetype": "text/x-python",
   "name": "python",
   "nbconvert_exporter": "python",
   "pygments_lexer": "ipython3",
   "version": "3.10.0"
  }
 },
 "nbformat": 4,
 "nbformat_minor": 5
}
