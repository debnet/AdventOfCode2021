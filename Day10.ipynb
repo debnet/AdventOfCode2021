{
 "cells": [
  {
   "cell_type": "code",
   "execution_count": 1,
   "id": "3a6da342-bd2b-4729-9409-a8ede897b671",
   "metadata": {},
   "outputs": [],
   "source": [
    "with open(\"Day10.txt\") as file:\n",
    "    data = file.read().splitlines()"
   ]
  },
  {
   "cell_type": "code",
   "execution_count": 2,
   "id": "f08ce49d-e3a9-4cf0-a2ea-badd4ca11a40",
   "metadata": {},
   "outputs": [],
   "source": [
    "tags = {\"(\": \")\", \"[\": \"]\", \"{\": \"}\", \"<\": \">\"}\n",
    "closing_tags = {v: k for k, v in tags.items()}\n",
    "error_scores = {\")\": 3, \"]\": 57, \"}\": 1197, \">\": 25137}\n",
    "complete_score = {\"(\": 1, \"[\": 2, \"{\": 3, \"<\": 4}"
   ]
  },
  {
   "cell_type": "code",
   "execution_count": 3,
   "id": "9d68f968-03b5-4fde-9f48-988d5771a803",
   "metadata": {},
   "outputs": [],
   "source": [
    "def analyze(line, complete=False):\n",
    "    queue = []\n",
    "    for char in line:\n",
    "        if char in tags:\n",
    "            queue.append(char)\n",
    "        else:\n",
    "            last_tag, req_tag = queue[-1], closing_tags[char]\n",
    "            if last_tag != req_tag:\n",
    "                return error_scores[char]\n",
    "            queue.pop()\n",
    "    score = 0\n",
    "    if complete:\n",
    "        for char in queue[::-1]:\n",
    "            score *= 5\n",
    "            score += complete_score[char]\n",
    "    return score"
   ]
  },
  {
   "cell_type": "code",
   "execution_count": 4,
   "id": "d0add2cf-762d-4ecc-a30c-63a7d745a965",
   "metadata": {},
   "outputs": [
    {
     "name": "stdout",
     "output_type": "stream",
     "text": [
      "CPU times: user 923 µs, sys: 0 ns, total: 923 µs\n",
      "Wall time: 933 µs\n"
     ]
    },
    {
     "data": {
      "text/plain": [
       "323691"
      ]
     },
     "execution_count": 4,
     "metadata": {},
     "output_type": "execute_result"
    }
   ],
   "source": [
    "%%time\n",
    "errors = [(line, analyze(line)) for line in data]\n",
    "sum(score for line, score in errors)"
   ]
  },
  {
   "cell_type": "code",
   "execution_count": 5,
   "id": "9a7bd618-de1f-4ece-8e72-4e26fd2ab07f",
   "metadata": {},
   "outputs": [
    {
     "name": "stdout",
     "output_type": "stream",
     "text": [
      "CPU times: user 642 µs, sys: 68 µs, total: 710 µs\n",
      "Wall time: 712 µs\n"
     ]
    },
    {
     "data": {
      "text/plain": [
       "2858785164"
      ]
     },
     "execution_count": 5,
     "metadata": {},
     "output_type": "execute_result"
    }
   ],
   "source": [
    "%%time\n",
    "incompletes = [analyze(line, complete=True) for line, score in errors if not score]\n",
    "sorted(incompletes)[len(incompletes) // 2]"
   ]
  }
 ],
 "metadata": {
  "kernelspec": {
   "display_name": "Python 3 (ipykernel)",
   "language": "python",
   "name": "python3"
  },
  "language_info": {
   "codemirror_mode": {
    "name": "ipython",
    "version": 3
   },
   "file_extension": ".py",
   "mimetype": "text/x-python",
   "name": "python",
   "nbconvert_exporter": "python",
   "pygments_lexer": "ipython3",
   "version": "3.10.0"
  }
 },
 "nbformat": 4,
 "nbformat_minor": 5
}
