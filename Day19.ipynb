{
 "cells": [
  {
   "cell_type": "code",
   "execution_count": 1,
   "id": "f489616c-0056-4976-89e9-5b8ba38cdb20",
   "metadata": {},
   "outputs": [],
   "source": [
    "scanners = {}\n",
    "with open('Day19.txt') as file:\n",
    "    for index, block in enumerate(file.read().split('\\n\\n')):\n",
    "        block = block.split('\\n')[1:]\n",
    "        scanners[index] = frozenset(tuple(map(int, line.split(','))) for line in block) "
   ]
  },
  {
   "cell_type": "code",
   "execution_count": 2,
   "id": "a9f0b30f-c30a-42c2-9d0a-dc2850561531",
   "metadata": {},
   "outputs": [],
   "source": [
    "from functools import cache\n",
    "from itertools import starmap, product\n",
    "\n",
    "combinations = [\n",
    "    lambda x, y, z: (+x, +y, +z),\n",
    "    lambda x, y, z: (+x, +z, -y),\n",
    "    lambda x, y, z: (+x, -y, -z),\n",
    "    lambda x, y, z: (+x, -z, +y),\n",
    "    lambda x, y, z: (-x, +y, -z),\n",
    "    lambda x, y, z: (-x, +z, +y),\n",
    "    lambda x, y, z: (-x, -y, +z),\n",
    "    lambda x, y, z: (-x, -z, -y),\n",
    "    lambda x, y, z: (+y, +x, -z),\n",
    "    lambda x, y, z: (+y, +z, +x),\n",
    "    lambda x, y, z: (+y, -x, +z),\n",
    "    lambda x, y, z: (+y, -z, -x),\n",
    "    lambda x, y, z: (-y, +x, +z),\n",
    "    lambda x, y, z: (-y, +z, -x),\n",
    "    lambda x, y, z: (-y, -x, -z),\n",
    "    lambda x, y, z: (-y, -z, +x),\n",
    "    lambda x, y, z: (+z, +x, +y),\n",
    "    lambda x, y, z: (+z, +y, -x),\n",
    "    lambda x, y, z: (+z, -x, -y),\n",
    "    lambda x, y, z: (+z, -y, +x),\n",
    "    lambda x, y, z: (-z, +x, -y),\n",
    "    lambda x, y, z: (-z, +y, +x),\n",
    "    lambda x, y, z: (-z, -x, +y),\n",
    "    lambda x, y, z: (-z, -y, -x),\n",
    "]\n",
    "\n",
    "@cache\n",
    "def all_combinations(scanner):\n",
    "    return [frozenset(starmap(combination, scanner)) for combination in combinations]"
   ]
  },
  {
   "cell_type": "code",
   "execution_count": 3,
   "id": "7b579af8-2b9d-4d7c-8ff3-6c5efdddf95f",
   "metadata": {},
   "outputs": [],
   "source": [
    "def match(s1, s2):\n",
    "    scan1, scan2 = scanners[s1], scanners[s2]\n",
    "    for scan2 in all_combinations(scan2):\n",
    "        for (x1, y1, z1), (x2, y2, z2) in product(scan1, scan2):\n",
    "            position = dx, dy, dz = x1 - x2, y1 - y2, z1 - z2\n",
    "            translations = frozenset((x + dx, y + dy, z + dz) for x, y, z in scan2)\n",
    "            if len(scan1 & translations) < 12:\n",
    "                continue\n",
    "            return translations, position"
   ]
  },
  {
   "cell_type": "code",
   "execution_count": 4,
   "id": "728d91f4-14af-46b7-9675-40df48167c4c",
   "metadata": {},
   "outputs": [
    {
     "name": "stdout",
     "output_type": "stream",
     "text": [
      "CPU times: user 37.9 s, sys: 10.7 ms, total: 37.9 s\n",
      "Wall time: 38 s\n"
     ]
    },
    {
     "data": {
      "text/plain": [
       "383"
      ]
     },
     "execution_count": 4,
     "metadata": {},
     "output_type": "execute_result"
    }
   ],
   "source": [
    "%%time\n",
    "scanner_positions = {0: (0, 0, 0)}\n",
    "scanner_unmatched = set(range(1, len(scanners)))\n",
    "todo = [0]\n",
    "while todo:\n",
    "    s1 = todo.pop()\n",
    "    for s2 in list(scanner_unmatched):\n",
    "        if result := match(s1, s2):\n",
    "            translation, position = result\n",
    "            todo.append(s2)\n",
    "            scanner_unmatched.remove(s2)\n",
    "            scanners[s2] = translation\n",
    "            scanner_positions[s2] = position\n",
    "len(frozenset.union(*scanners.values()))"
   ]
  },
  {
   "cell_type": "code",
   "execution_count": 5,
   "id": "4787bc19-fb49-4f3f-b54b-c46d6bfac032",
   "metadata": {},
   "outputs": [
    {
     "name": "stdout",
     "output_type": "stream",
     "text": [
      "CPU times: user 705 µs, sys: 0 ns, total: 705 µs\n",
      "Wall time: 734 µs\n"
     ]
    },
    {
     "data": {
      "text/plain": [
       "9854"
      ]
     },
     "execution_count": 5,
     "metadata": {},
     "output_type": "execute_result"
    }
   ],
   "source": [
    "%%time\n",
    "max_distance = 0\n",
    "for (a, b, c), (x, y, z) in product(scanner_positions.values(), scanner_positions.values()):\n",
    "    max_distance = max(max_distance, abs(a - x) + abs(b - y) + abs(c - z))\n",
    "max_distance"
   ]
  }
 ],
 "metadata": {
  "kernelspec": {
   "display_name": "Python 3 (ipykernel)",
   "language": "python",
   "name": "python3"
  },
  "language_info": {
   "codemirror_mode": {
    "name": "ipython",
    "version": 3
   },
   "file_extension": ".py",
   "mimetype": "text/x-python",
   "name": "python",
   "nbconvert_exporter": "python",
   "pygments_lexer": "ipython3",
   "version": "3.10.0"
  }
 },
 "nbformat": 4,
 "nbformat_minor": 5
}
