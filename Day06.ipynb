{
 "cells": [
  {
   "cell_type": "code",
   "execution_count": 1,
   "id": "59e7fc94-998b-4b22-a9e5-9b7ddd75ef41",
   "metadata": {},
   "outputs": [],
   "source": [
    "with open(\"Day06.txt\") as file:\n",
    "    data = list(map(int, file.read().split(',')))"
   ]
  },
  {
   "cell_type": "code",
   "execution_count": 2,
   "id": "d82fecd8-465c-41f6-bcd1-10863d1ccb96",
   "metadata": {},
   "outputs": [],
   "source": [
    "from collections import Counter"
   ]
  },
  {
   "cell_type": "code",
   "execution_count": 3,
   "id": "a368aba6-70f9-4a7c-b11f-93a51b88abad",
   "metadata": {},
   "outputs": [],
   "source": [
    "def cycle(fishes):\n",
    "    new_fishes = fishes.pop(0, 0)\n",
    "    fishes = Counter({life - 1: count for life, count in fishes.items()})\n",
    "    fishes[6] += new_fishes\n",
    "    fishes[8] += new_fishes\n",
    "    return fishes"
   ]
  },
  {
   "cell_type": "code",
   "execution_count": 4,
   "id": "218792d0-56fd-44a3-aef8-a0c4986e63aa",
   "metadata": {},
   "outputs": [
    {
     "name": "stdout",
     "output_type": "stream",
     "text": [
      "CPU times: user 350 µs, sys: 0 ns, total: 350 µs\n",
      "Wall time: 361 µs\n"
     ]
    },
    {
     "data": {
      "text/plain": [
       "359999"
      ]
     },
     "execution_count": 4,
     "metadata": {},
     "output_type": "execute_result"
    }
   ],
   "source": [
    "%%time\n",
    "fishes = Counter(data)\n",
    "for _ in range(80):\n",
    "    fishes = cycle(fishes)\n",
    "sum(fishes.values())"
   ]
  },
  {
   "cell_type": "code",
   "execution_count": 5,
   "id": "543effcf-b455-4869-9d03-b5446bb73aa5",
   "metadata": {},
   "outputs": [
    {
     "name": "stdout",
     "output_type": "stream",
     "text": [
      "CPU times: user 0 ns, sys: 561 µs, total: 561 µs\n",
      "Wall time: 583 µs\n"
     ]
    },
    {
     "data": {
      "text/plain": [
       "1631647919273"
      ]
     },
     "execution_count": 5,
     "metadata": {},
     "output_type": "execute_result"
    }
   ],
   "source": [
    "%%time\n",
    "for _ in range(256 - 80):\n",
    "    fishes = cycle(fishes)\n",
    "sum(fishes.values())"
   ]
  }
 ],
 "metadata": {
  "kernelspec": {
   "display_name": "Python 3 (ipykernel)",
   "language": "python",
   "name": "python3"
  },
  "language_info": {
   "codemirror_mode": {
    "name": "ipython",
    "version": 3
   },
   "file_extension": ".py",
   "mimetype": "text/x-python",
   "name": "python",
   "nbconvert_exporter": "python",
   "pygments_lexer": "ipython3",
   "version": "3.10.0"
  }
 },
 "nbformat": 4,
 "nbformat_minor": 5
}
