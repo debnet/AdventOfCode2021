{
 "cells": [
  {
   "cell_type": "code",
   "execution_count": 1,
   "id": "d99d128e-8ab6-4fd3-b03e-ade0847fe1ae",
   "metadata": {},
   "outputs": [],
   "source": [
    "with open('Day16.txt') as file:\n",
    "    data = file.read()\n",
    "binary_data = ''.join(bin(int(item, 16))[2:].rjust(4, '0') for item in data)"
   ]
  },
  {
   "cell_type": "code",
   "execution_count": 2,
   "id": "f03dba02-3c76-4101-9b17-48d99a4fa794",
   "metadata": {},
   "outputs": [],
   "source": [
    "from dataclasses import dataclass, field\n",
    "from __future__ import annotations\n",
    "\n",
    "from functools import reduce\n",
    "from operator import mul, gt, lt, eq\n",
    "\n",
    "@dataclass\n",
    "class Packet:\n",
    "    version: int\n",
    "    type_id: int\n",
    "    data: int | list[Packet] = field(compare=False)\n",
    "    cursor: int = field(repr=False)\n",
    "    \n",
    "    def sum_versions(self):\n",
    "        result = self.version\n",
    "        if self.type_id != 4:\n",
    "            for child in self.data:\n",
    "                result += child.sum_versions()\n",
    "        return result\n",
    "    \n",
    "    def evaluate(self):\n",
    "        if self.type_id == 4:\n",
    "            return self.data\n",
    "        \n",
    "        evals = [p.evaluate() for p in self.data]\n",
    "        match self.type_id:\n",
    "            case 0:\n",
    "                return sum(evals)\n",
    "            case 1:\n",
    "                return reduce(mul, evals)\n",
    "            case 2:\n",
    "                return min(evals)\n",
    "            case 3:\n",
    "                return max(evals)\n",
    "            case 5:\n",
    "                return int(gt(*evals))\n",
    "            case 6:\n",
    "                return int(lt(*evals))\n",
    "            case 7:\n",
    "                return int(eq(*evals))"
   ]
  },
  {
   "cell_type": "code",
   "execution_count": 3,
   "id": "0403d5e2-b309-49d7-a321-415854f1da1a",
   "metadata": {},
   "outputs": [],
   "source": [
    "def parse(data):\n",
    "    version = int(data[0:3], 2)\n",
    "    type_id = int(data[3:6], 2)\n",
    "    result = None\n",
    "    cursor = 6\n",
    "    if type_id == 4:\n",
    "        result = ''\n",
    "        bit = '1'\n",
    "        while bit == '1':\n",
    "            bit = data[cursor]\n",
    "            cursor += 1\n",
    "            result += data[cursor:cursor+4]\n",
    "            cursor += 4\n",
    "        result = int(result, 2)\n",
    "    else:\n",
    "        result = []\n",
    "        length = data[cursor]\n",
    "        cursor += 1\n",
    "        if length == '0':\n",
    "            length = int(data[cursor:cursor+15], 2)\n",
    "            cursor += 15\n",
    "            length += cursor\n",
    "            while cursor < length:\n",
    "                packet = parse(data[cursor:])\n",
    "                result.append(packet)\n",
    "                cursor += packet.cursor\n",
    "        else:\n",
    "            length = int(data[cursor:cursor+11], 2)\n",
    "            cursor += 11\n",
    "            for _ in range(length):\n",
    "                packet = parse(data[cursor:])\n",
    "                result.append(packet)\n",
    "                cursor += packet.cursor\n",
    "    return Packet(version, type_id, result, cursor)"
   ]
  },
  {
   "cell_type": "code",
   "execution_count": 4,
   "id": "f0f76060-3d8a-421e-a9d3-129c3683a06f",
   "metadata": {},
   "outputs": [],
   "source": [
    "def sum_version(packet):\n",
    "    result = packet.version\n",
    "    if isinstance(packet.data, list):\n",
    "        for packet in packet.data:\n",
    "            result += sum_version(packet)\n",
    "    return result"
   ]
  },
  {
   "cell_type": "code",
   "execution_count": 5,
   "id": "6ce96352-28d0-461a-8e47-aaa408b3edec",
   "metadata": {},
   "outputs": [
    {
     "name": "stdout",
     "output_type": "stream",
     "text": [
      "CPU times: user 719 µs, sys: 0 ns, total: 719 µs\n",
      "Wall time: 728 µs\n"
     ]
    }
   ],
   "source": [
    "%%time\n",
    "packet = parse(binary_data)"
   ]
  },
  {
   "cell_type": "code",
   "execution_count": 6,
   "id": "708b96a9-8096-458c-b89c-7a300dce0725",
   "metadata": {},
   "outputs": [
    {
     "data": {
      "text/plain": [
       "957"
      ]
     },
     "execution_count": 6,
     "metadata": {},
     "output_type": "execute_result"
    }
   ],
   "source": [
    "packet.sum_versions()"
   ]
  },
  {
   "cell_type": "code",
   "execution_count": 7,
   "id": "539c0f16-b799-4243-85a6-359168a75391",
   "metadata": {},
   "outputs": [
    {
     "data": {
      "text/plain": [
       "744953223228"
      ]
     },
     "execution_count": 7,
     "metadata": {},
     "output_type": "execute_result"
    }
   ],
   "source": [
    "packet.evaluate()"
   ]
  }
 ],
 "metadata": {
  "kernelspec": {
   "display_name": "Python 3 (ipykernel)",
   "language": "python",
   "name": "python3"
  },
  "language_info": {
   "codemirror_mode": {
    "name": "ipython",
    "version": 3
   },
   "file_extension": ".py",
   "mimetype": "text/x-python",
   "name": "python",
   "nbconvert_exporter": "python",
   "pygments_lexer": "ipython3",
   "version": "3.10.0"
  }
 },
 "nbformat": 4,
 "nbformat_minor": 5
}
