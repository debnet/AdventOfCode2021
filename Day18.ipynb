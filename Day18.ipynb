{
 "cells": [
  {
   "cell_type": "code",
   "execution_count": 1,
   "id": "96440612-38e2-40c1-aa0b-feeafa9f5786",
   "metadata": {},
   "outputs": [],
   "source": [
    "from math import ceil, floor\n",
    "from itertools import permutations"
   ]
  },
  {
   "cell_type": "code",
   "execution_count": 2,
   "id": "ec47f65c-5203-4f9d-b97f-ccba3375f491",
   "metadata": {},
   "outputs": [],
   "source": [
    "class Node:\n",
    "    def __init__(self, chunk='', parent=None):\n",
    "        if not isinstance(chunk, str):\n",
    "            chunk = str(chunk)\n",
    "        self.left = self.right = self.value = None\n",
    "        self.parent = parent\n",
    "        depth = 0\n",
    "        for index, char in enumerate(chunk[1:-1]):\n",
    "            if char == '[':\n",
    "                depth += 1\n",
    "            elif char == ']':\n",
    "                depth -= 1\n",
    "            elif char == ',' and depth == 0:\n",
    "                self.left = Node(chunk[1:index+1], parent=self)\n",
    "                self.right = Node(chunk[index+2:-1], parent=self)\n",
    "                break\n",
    "        if chunk.isnumeric() and not self.has_children:\n",
    "            self.value = int(chunk)\n",
    "    \n",
    "    def __str__(self):\n",
    "        if not self.has_children:\n",
    "            return str(self.value)\n",
    "        return f\"[{self.left},{self.right}]\"\n",
    "    \n",
    "    def __repr__(self):\n",
    "        return str(self)\n",
    "    \n",
    "    def __add__(self, node):\n",
    "        new = Node()\n",
    "        new.left = Node(self, parent=new)\n",
    "        new.right = Node(node, parent=new)\n",
    "        while new.explode() or new.split():\n",
    "            continue\n",
    "        return new\n",
    "    \n",
    "    def __radd__(self, val):\n",
    "        if val == 0:\n",
    "            return self\n",
    "        return self.__add__(val)\n",
    "    \n",
    "    @property\n",
    "    def has_children(self):\n",
    "        return self.left and self.right\n",
    "    \n",
    "    def split(self):\n",
    "        if self.value and self.value > 9:\n",
    "            self.left = Node(floor(self.value / 2), parent=self)\n",
    "            self.right = Node(ceil(self.value / 2), parent=self)\n",
    "            self.value = None\n",
    "            return True\n",
    "        if self.has_children:\n",
    "            return self.left.split() or self.right.split()\n",
    "        return False\n",
    "    \n",
    "    def explode(self, depth=0):\n",
    "        if self.has_children:\n",
    "            if depth == 4 and not self.left.has_children and not self.right.has_children:\n",
    "                # Left\n",
    "                left, previous = self.parent, self\n",
    "                while left and left.left == previous:\n",
    "                    previous = left\n",
    "                    left = left.parent\n",
    "                if left:\n",
    "                    left = left.left\n",
    "                while left and left.right:\n",
    "                    left = left.right\n",
    "                # Right\n",
    "                right, previous = self.parent, self\n",
    "                while right and right.right == previous:\n",
    "                    previous = right\n",
    "                    right = right.parent\n",
    "                if right:\n",
    "                    right = right.right\n",
    "                while right and right.left:\n",
    "                    right = right.left\n",
    "                # Sum\n",
    "                if left:\n",
    "                    left.value += self.left.value\n",
    "                if right:\n",
    "                    right.value += self.right.value\n",
    "                self.left = self.right = None\n",
    "                self.value = 0\n",
    "                return True\n",
    "            return self.left.explode(depth + 1) or self.right.explode(depth + 1)\n",
    "        return False\n",
    "    \n",
    "    @property\n",
    "    def magnitude(self):\n",
    "        if self.has_children:\n",
    "            return 3 * self.left.magnitude + 2 * self.right.magnitude\n",
    "        return self.value"
   ]
  },
  {
   "cell_type": "code",
   "execution_count": 3,
   "id": "bc16bb4b-8584-41e3-93eb-08d8099e1205",
   "metadata": {},
   "outputs": [],
   "source": [
    "with open('Day18.txt') as file:\n",
    "    nodes = [Node(line) for line in file.read().splitlines()]"
   ]
  },
  {
   "cell_type": "code",
   "execution_count": 4,
   "id": "abf7411d-eaa3-4dd5-8aa3-0aa7494c6d4f",
   "metadata": {},
   "outputs": [
    {
     "name": "stdout",
     "output_type": "stream",
     "text": [
      "CPU times: user 160 ms, sys: 1.72 ms, total: 162 ms\n",
      "Wall time: 160 ms\n"
     ]
    },
    {
     "data": {
      "text/plain": [
       "4033"
      ]
     },
     "execution_count": 4,
     "metadata": {},
     "output_type": "execute_result"
    }
   ],
   "source": [
    "%%time\n",
    "sum(nodes).magnitude"
   ]
  },
  {
   "cell_type": "code",
   "execution_count": 5,
   "id": "8761a2dc-2d00-4025-93d0-3d608583d260",
   "metadata": {},
   "outputs": [
    {
     "name": "stdout",
     "output_type": "stream",
     "text": [
      "CPU times: user 2.73 s, sys: 2.02 ms, total: 2.74 s\n",
      "Wall time: 2.74 s\n"
     ]
    },
    {
     "data": {
      "text/plain": [
       "4864"
      ]
     },
     "execution_count": 5,
     "metadata": {},
     "output_type": "execute_result"
    }
   ],
   "source": [
    "%%time\n",
    "max((a + b).magnitude for a, b in permutations(nodes, 2))"
   ]
  }
 ],
 "metadata": {
  "kernelspec": {
   "display_name": "Python 3 (ipykernel)",
   "language": "python",
   "name": "python3"
  },
  "language_info": {
   "codemirror_mode": {
    "name": "ipython",
    "version": 3
   },
   "file_extension": ".py",
   "mimetype": "text/x-python",
   "name": "python",
   "nbconvert_exporter": "python",
   "pygments_lexer": "ipython3",
   "version": "3.10.0"
  }
 },
 "nbformat": 4,
 "nbformat_minor": 5
}
