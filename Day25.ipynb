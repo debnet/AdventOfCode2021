{
 "cells": [
  {
   "cell_type": "code",
   "execution_count": 1,
   "id": "9ff96f13-9a58-4b0c-a98c-0a19092acf3a",
   "metadata": {},
   "outputs": [],
   "source": [
    "xsize, ysize = 0, 0\n",
    "data = {'>': set(), 'v': set()}\n",
    "with open('Day25.txt') as file:\n",
    "    for y, line in enumerate(file):\n",
    "        ysize = max(ysize, y + 1)\n",
    "        for x, char in enumerate(line.strip()):\n",
    "            xsize = max(xsize, x + 1)\n",
    "            if char not in data:\n",
    "                continue\n",
    "            data[char].add((x, y))"
   ]
  },
  {
   "cell_type": "code",
   "execution_count": 2,
   "id": "b779baed-8bc4-4c0d-a2a2-026db8d5cd37",
   "metadata": {},
   "outputs": [],
   "source": [
    "def cycle(data):\n",
    "    result = {'>': set(), 'v': set()}\n",
    "    alls = data['>'] | data['v']\n",
    "    for item, shift in (('>', (+1, +0)), ('v', (+0, +1))):\n",
    "        for (x, y) in data[item]:\n",
    "            sx, sy = shift\n",
    "            nx, ny = (x + sx) % xsize, (y + sy) % ysize\n",
    "            if (nx, ny) in alls:\n",
    "                result[item].add((x, y))\n",
    "            else:\n",
    "                result[item].add((nx, ny))\n",
    "        alls = result[item] | data['v']\n",
    "    return result"
   ]
  },
  {
   "cell_type": "code",
   "execution_count": 3,
   "id": "c27b7775-0b85-4fdc-85c8-00b15e3220b5",
   "metadata": {},
   "outputs": [],
   "source": [
    "def display(data):\n",
    "    coords = {(x, y): k for k, v in data.items() for x, y in v}\n",
    "    for y in range(ysize):\n",
    "        for x in range(xsize):\n",
    "            print(coords.get((x, y), '.'), end='')\n",
    "        print()"
   ]
  },
  {
   "cell_type": "code",
   "execution_count": 4,
   "id": "8fbd141f-a540-4fd5-ad62-57b831422e3d",
   "metadata": {},
   "outputs": [
    {
     "name": "stdout",
     "output_type": "stream",
     "text": [
      "CPU times: user 2.49 s, sys: 5.92 ms, total: 2.5 s\n",
      "Wall time: 2.51 s\n"
     ]
    },
    {
     "data": {
      "text/plain": [
       "498"
      ]
     },
     "execution_count": 4,
     "metadata": {},
     "output_type": "execute_result"
    }
   ],
   "source": [
    "%%time\n",
    "turn = 0\n",
    "previous, current = set(), set()\n",
    "while not turn or previous != current:\n",
    "    turn += 1\n",
    "    previous = current\n",
    "    data = cycle(data)\n",
    "    current = data['>'] | data['v']\n",
    "turn"
   ]
  }
 ],
 "metadata": {
  "kernelspec": {
   "display_name": "Python 3 (ipykernel)",
   "language": "python",
   "name": "python3"
  },
  "language_info": {
   "codemirror_mode": {
    "name": "ipython",
    "version": 3
   },
   "file_extension": ".py",
   "mimetype": "text/x-python",
   "name": "python",
   "nbconvert_exporter": "python",
   "pygments_lexer": "ipython3",
   "version": "3.10.1"
  }
 },
 "nbformat": 4,
 "nbformat_minor": 5
}
